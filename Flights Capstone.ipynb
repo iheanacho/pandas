{
 "cells": [
  {
   "cell_type": "code",
   "execution_count": 2,
   "id": "c1a891fc",
   "metadata": {},
   "outputs": [],
   "source": [
    "import numpy as np\n",
    "import pandas as pd\n",
    "import seaborn as sns\n",
    "import matplotlib.pyplot as plt\n",
    "%matplotlib inline"
   ]
  },
  {
   "cell_type": "markdown",
   "id": "9680e40d",
   "metadata": {},
   "source": [
    "### Only need columns of dataset is loaded"
   ]
  },
  {
   "cell_type": "code",
   "execution_count": 3,
   "id": "f3891adf",
   "metadata": {},
   "outputs": [],
   "source": [
    "dtype = {'DayOfWeek': np.uint8, 'DayofMonth': np.uint8, 'Month': np.uint8,\n",
    "         'Cancelled': np.uint8, 'Year': np.uint16, 'FlightNum': np.uint16 ,\n",
    "         'Distance': np.uint16, 'UniqueCarrier': str, 'CancellationCode': str,\n",
    "         'Origin': str, 'Dest': str, 'ArrDelay': np.float16,\n",
    "         'DepDelay': np.float16, 'CarrierDelay': np.float16,\n",
    "         'WeatherDelay': np.float16, 'NASDelay': np.float16,\n",
    "         'SecurityDelay':np.float16, 'LateAircraftDelay': np.float16,\n",
    "         'DepTime': np.float16}"
   ]
  },
  {
   "cell_type": "code",
   "execution_count": 4,
   "id": "a7a41537",
   "metadata": {},
   "outputs": [
    {
     "name": "stdout",
     "output_type": "stream",
     "text": [
      "Wall time: 3.28 s\n"
     ]
    }
   ],
   "source": [
    "%%time\n",
    "# Specifying path\n",
    "path = \"C:/Users/MIC/OneDrive - UGent/Desktop/Data Engineering/Altschool/Ope_classes/Python Class -20230308T154637Z-001/Python Class/Python Capstone 1/Project 2 (Assignment)/2008.csv\"\n",
    "flights_df = pd.read_csv(path, usecols=dtype.keys(), dtype=dtype)"
   ]
  },
  {
   "cell_type": "code",
   "execution_count": 13,
   "id": "3353bc4a",
   "metadata": {},
   "outputs": [
    {
     "name": "stdout",
     "output_type": "stream",
     "text": [
      "(2389217, 19)\n",
      "Index(['Year', 'Month', 'DayofMonth', 'DayOfWeek', 'DepTime', 'UniqueCarrier',\n",
      "       'FlightNum', 'ArrDelay', 'DepDelay', 'Origin', 'Dest', 'Distance',\n",
      "       'Cancelled', 'CancellationCode', 'CarrierDelay', 'WeatherDelay',\n",
      "       'NASDelay', 'SecurityDelay', 'LateAircraftDelay'],\n",
      "      dtype='object')\n"
     ]
    }
   ],
   "source": [
    "# Checking no. of rows and columns and printing column names\n",
    "print(flights_df.shape)\n",
    "print(flights_df.columns)"
   ]
  },
  {
   "cell_type": "code",
   "execution_count": 5,
   "id": "501ee7d1",
   "metadata": {},
   "outputs": [
    {
     "data": {
      "text/html": [
       "<div>\n",
       "<style scoped>\n",
       "    .dataframe tbody tr th:only-of-type {\n",
       "        vertical-align: middle;\n",
       "    }\n",
       "\n",
       "    .dataframe tbody tr th {\n",
       "        vertical-align: top;\n",
       "    }\n",
       "\n",
       "    .dataframe thead th {\n",
       "        text-align: right;\n",
       "    }\n",
       "</style>\n",
       "<table border=\"1\" class=\"dataframe\">\n",
       "  <thead>\n",
       "    <tr style=\"text-align: right;\">\n",
       "      <th></th>\n",
       "      <th>Year</th>\n",
       "      <th>Month</th>\n",
       "      <th>DayofMonth</th>\n",
       "      <th>DayOfWeek</th>\n",
       "      <th>DepTime</th>\n",
       "      <th>UniqueCarrier</th>\n",
       "      <th>FlightNum</th>\n",
       "      <th>ArrDelay</th>\n",
       "      <th>DepDelay</th>\n",
       "      <th>Origin</th>\n",
       "      <th>Dest</th>\n",
       "      <th>Distance</th>\n",
       "      <th>Cancelled</th>\n",
       "      <th>CancellationCode</th>\n",
       "      <th>CarrierDelay</th>\n",
       "      <th>WeatherDelay</th>\n",
       "      <th>NASDelay</th>\n",
       "      <th>SecurityDelay</th>\n",
       "      <th>LateAircraftDelay</th>\n",
       "    </tr>\n",
       "  </thead>\n",
       "  <tbody>\n",
       "    <tr>\n",
       "      <th>0</th>\n",
       "      <td>2008</td>\n",
       "      <td>1</td>\n",
       "      <td>3</td>\n",
       "      <td>4</td>\n",
       "      <td>1343.0</td>\n",
       "      <td>WN</td>\n",
       "      <td>588</td>\n",
       "      <td>16.0</td>\n",
       "      <td>18.0</td>\n",
       "      <td>HOU</td>\n",
       "      <td>LIT</td>\n",
       "      <td>393</td>\n",
       "      <td>0</td>\n",
       "      <td>NaN</td>\n",
       "      <td>16.0</td>\n",
       "      <td>0.0</td>\n",
       "      <td>0.0</td>\n",
       "      <td>0.0</td>\n",
       "      <td>0.0</td>\n",
       "    </tr>\n",
       "    <tr>\n",
       "      <th>1</th>\n",
       "      <td>2008</td>\n",
       "      <td>1</td>\n",
       "      <td>3</td>\n",
       "      <td>4</td>\n",
       "      <td>1125.0</td>\n",
       "      <td>WN</td>\n",
       "      <td>1343</td>\n",
       "      <td>2.0</td>\n",
       "      <td>5.0</td>\n",
       "      <td>HOU</td>\n",
       "      <td>MAF</td>\n",
       "      <td>441</td>\n",
       "      <td>0</td>\n",
       "      <td>NaN</td>\n",
       "      <td>NaN</td>\n",
       "      <td>NaN</td>\n",
       "      <td>NaN</td>\n",
       "      <td>NaN</td>\n",
       "      <td>NaN</td>\n",
       "    </tr>\n",
       "    <tr>\n",
       "      <th>2</th>\n",
       "      <td>2008</td>\n",
       "      <td>1</td>\n",
       "      <td>3</td>\n",
       "      <td>4</td>\n",
       "      <td>2009.0</td>\n",
       "      <td>WN</td>\n",
       "      <td>3841</td>\n",
       "      <td>-4.0</td>\n",
       "      <td>-6.0</td>\n",
       "      <td>HOU</td>\n",
       "      <td>MAF</td>\n",
       "      <td>441</td>\n",
       "      <td>0</td>\n",
       "      <td>NaN</td>\n",
       "      <td>NaN</td>\n",
       "      <td>NaN</td>\n",
       "      <td>NaN</td>\n",
       "      <td>NaN</td>\n",
       "      <td>NaN</td>\n",
       "    </tr>\n",
       "    <tr>\n",
       "      <th>3</th>\n",
       "      <td>2008</td>\n",
       "      <td>1</td>\n",
       "      <td>3</td>\n",
       "      <td>4</td>\n",
       "      <td>903.0</td>\n",
       "      <td>WN</td>\n",
       "      <td>3</td>\n",
       "      <td>-2.0</td>\n",
       "      <td>8.0</td>\n",
       "      <td>HOU</td>\n",
       "      <td>MCO</td>\n",
       "      <td>848</td>\n",
       "      <td>0</td>\n",
       "      <td>NaN</td>\n",
       "      <td>NaN</td>\n",
       "      <td>NaN</td>\n",
       "      <td>NaN</td>\n",
       "      <td>NaN</td>\n",
       "      <td>NaN</td>\n",
       "    </tr>\n",
       "    <tr>\n",
       "      <th>4</th>\n",
       "      <td>2008</td>\n",
       "      <td>1</td>\n",
       "      <td>3</td>\n",
       "      <td>4</td>\n",
       "      <td>1423.0</td>\n",
       "      <td>WN</td>\n",
       "      <td>25</td>\n",
       "      <td>16.0</td>\n",
       "      <td>23.0</td>\n",
       "      <td>HOU</td>\n",
       "      <td>MCO</td>\n",
       "      <td>848</td>\n",
       "      <td>0</td>\n",
       "      <td>NaN</td>\n",
       "      <td>16.0</td>\n",
       "      <td>0.0</td>\n",
       "      <td>0.0</td>\n",
       "      <td>0.0</td>\n",
       "      <td>0.0</td>\n",
       "    </tr>\n",
       "    <tr>\n",
       "      <th>5</th>\n",
       "      <td>2008</td>\n",
       "      <td>1</td>\n",
       "      <td>3</td>\n",
       "      <td>4</td>\n",
       "      <td>2024.0</td>\n",
       "      <td>WN</td>\n",
       "      <td>51</td>\n",
       "      <td>0.0</td>\n",
       "      <td>4.0</td>\n",
       "      <td>HOU</td>\n",
       "      <td>MCO</td>\n",
       "      <td>848</td>\n",
       "      <td>0</td>\n",
       "      <td>NaN</td>\n",
       "      <td>NaN</td>\n",
       "      <td>NaN</td>\n",
       "      <td>NaN</td>\n",
       "      <td>NaN</td>\n",
       "      <td>NaN</td>\n",
       "    </tr>\n",
       "    <tr>\n",
       "      <th>6</th>\n",
       "      <td>2008</td>\n",
       "      <td>1</td>\n",
       "      <td>3</td>\n",
       "      <td>4</td>\n",
       "      <td>1753.0</td>\n",
       "      <td>WN</td>\n",
       "      <td>940</td>\n",
       "      <td>3.0</td>\n",
       "      <td>8.0</td>\n",
       "      <td>HOU</td>\n",
       "      <td>MCO</td>\n",
       "      <td>848</td>\n",
       "      <td>0</td>\n",
       "      <td>NaN</td>\n",
       "      <td>NaN</td>\n",
       "      <td>NaN</td>\n",
       "      <td>NaN</td>\n",
       "      <td>NaN</td>\n",
       "      <td>NaN</td>\n",
       "    </tr>\n",
       "    <tr>\n",
       "      <th>7</th>\n",
       "      <td>2008</td>\n",
       "      <td>1</td>\n",
       "      <td>3</td>\n",
       "      <td>4</td>\n",
       "      <td>622.0</td>\n",
       "      <td>WN</td>\n",
       "      <td>2621</td>\n",
       "      <td>5.0</td>\n",
       "      <td>2.0</td>\n",
       "      <td>HOU</td>\n",
       "      <td>MCO</td>\n",
       "      <td>848</td>\n",
       "      <td>0</td>\n",
       "      <td>NaN</td>\n",
       "      <td>NaN</td>\n",
       "      <td>NaN</td>\n",
       "      <td>NaN</td>\n",
       "      <td>NaN</td>\n",
       "      <td>NaN</td>\n",
       "    </tr>\n",
       "    <tr>\n",
       "      <th>8</th>\n",
       "      <td>2008</td>\n",
       "      <td>1</td>\n",
       "      <td>3</td>\n",
       "      <td>4</td>\n",
       "      <td>1944.0</td>\n",
       "      <td>WN</td>\n",
       "      <td>389</td>\n",
       "      <td>-5.0</td>\n",
       "      <td>-1.0</td>\n",
       "      <td>HOU</td>\n",
       "      <td>MDW</td>\n",
       "      <td>937</td>\n",
       "      <td>0</td>\n",
       "      <td>NaN</td>\n",
       "      <td>NaN</td>\n",
       "      <td>NaN</td>\n",
       "      <td>NaN</td>\n",
       "      <td>NaN</td>\n",
       "      <td>NaN</td>\n",
       "    </tr>\n",
       "    <tr>\n",
       "      <th>9</th>\n",
       "      <td>2008</td>\n",
       "      <td>1</td>\n",
       "      <td>3</td>\n",
       "      <td>4</td>\n",
       "      <td>1453.0</td>\n",
       "      <td>WN</td>\n",
       "      <td>519</td>\n",
       "      <td>26.0</td>\n",
       "      <td>28.0</td>\n",
       "      <td>HOU</td>\n",
       "      <td>MDW</td>\n",
       "      <td>937</td>\n",
       "      <td>0</td>\n",
       "      <td>NaN</td>\n",
       "      <td>11.0</td>\n",
       "      <td>0.0</td>\n",
       "      <td>0.0</td>\n",
       "      <td>0.0</td>\n",
       "      <td>15.0</td>\n",
       "    </tr>\n",
       "  </tbody>\n",
       "</table>\n",
       "</div>"
      ],
      "text/plain": [
       "   Year  Month  DayofMonth  DayOfWeek  DepTime UniqueCarrier  FlightNum  \\\n",
       "0  2008      1           3          4   1343.0            WN        588   \n",
       "1  2008      1           3          4   1125.0            WN       1343   \n",
       "2  2008      1           3          4   2009.0            WN       3841   \n",
       "3  2008      1           3          4    903.0            WN          3   \n",
       "4  2008      1           3          4   1423.0            WN         25   \n",
       "5  2008      1           3          4   2024.0            WN         51   \n",
       "6  2008      1           3          4   1753.0            WN        940   \n",
       "7  2008      1           3          4    622.0            WN       2621   \n",
       "8  2008      1           3          4   1944.0            WN        389   \n",
       "9  2008      1           3          4   1453.0            WN        519   \n",
       "\n",
       "   ArrDelay  DepDelay Origin Dest  Distance  Cancelled CancellationCode  \\\n",
       "0      16.0      18.0    HOU  LIT       393          0              NaN   \n",
       "1       2.0       5.0    HOU  MAF       441          0              NaN   \n",
       "2      -4.0      -6.0    HOU  MAF       441          0              NaN   \n",
       "3      -2.0       8.0    HOU  MCO       848          0              NaN   \n",
       "4      16.0      23.0    HOU  MCO       848          0              NaN   \n",
       "5       0.0       4.0    HOU  MCO       848          0              NaN   \n",
       "6       3.0       8.0    HOU  MCO       848          0              NaN   \n",
       "7       5.0       2.0    HOU  MCO       848          0              NaN   \n",
       "8      -5.0      -1.0    HOU  MDW       937          0              NaN   \n",
       "9      26.0      28.0    HOU  MDW       937          0              NaN   \n",
       "\n",
       "   CarrierDelay  WeatherDelay  NASDelay  SecurityDelay  LateAircraftDelay  \n",
       "0          16.0           0.0       0.0            0.0                0.0  \n",
       "1           NaN           NaN       NaN            NaN                NaN  \n",
       "2           NaN           NaN       NaN            NaN                NaN  \n",
       "3           NaN           NaN       NaN            NaN                NaN  \n",
       "4          16.0           0.0       0.0            0.0                0.0  \n",
       "5           NaN           NaN       NaN            NaN                NaN  \n",
       "6           NaN           NaN       NaN            NaN                NaN  \n",
       "7           NaN           NaN       NaN            NaN                NaN  \n",
       "8           NaN           NaN       NaN            NaN                NaN  \n",
       "9          11.0           0.0       0.0            0.0               15.0  "
      ]
     },
     "execution_count": 5,
     "metadata": {},
     "output_type": "execute_result"
    }
   ],
   "source": [
    "flights_df.head(10)"
   ]
  },
  {
   "cell_type": "code",
   "execution_count": 16,
   "id": "b8f7cfe2",
   "metadata": {
    "scrolled": true
   },
   "outputs": [
    {
     "data": {
      "text/html": [
       "<div>\n",
       "<style scoped>\n",
       "    .dataframe tbody tr th:only-of-type {\n",
       "        vertical-align: middle;\n",
       "    }\n",
       "\n",
       "    .dataframe tbody tr th {\n",
       "        vertical-align: top;\n",
       "    }\n",
       "\n",
       "    .dataframe thead th {\n",
       "        text-align: right;\n",
       "    }\n",
       "</style>\n",
       "<table border=\"1\" class=\"dataframe\">\n",
       "  <thead>\n",
       "    <tr style=\"text-align: right;\">\n",
       "      <th></th>\n",
       "      <th>0</th>\n",
       "      <th>1</th>\n",
       "      <th>2</th>\n",
       "      <th>3</th>\n",
       "      <th>4</th>\n",
       "    </tr>\n",
       "  </thead>\n",
       "  <tbody>\n",
       "    <tr>\n",
       "      <th>Year</th>\n",
       "      <td>2008</td>\n",
       "      <td>2008</td>\n",
       "      <td>2008</td>\n",
       "      <td>2008</td>\n",
       "      <td>2008</td>\n",
       "    </tr>\n",
       "    <tr>\n",
       "      <th>Month</th>\n",
       "      <td>1</td>\n",
       "      <td>1</td>\n",
       "      <td>1</td>\n",
       "      <td>1</td>\n",
       "      <td>1</td>\n",
       "    </tr>\n",
       "    <tr>\n",
       "      <th>DayofMonth</th>\n",
       "      <td>3</td>\n",
       "      <td>3</td>\n",
       "      <td>3</td>\n",
       "      <td>3</td>\n",
       "      <td>3</td>\n",
       "    </tr>\n",
       "    <tr>\n",
       "      <th>DayOfWeek</th>\n",
       "      <td>4</td>\n",
       "      <td>4</td>\n",
       "      <td>4</td>\n",
       "      <td>4</td>\n",
       "      <td>4</td>\n",
       "    </tr>\n",
       "    <tr>\n",
       "      <th>DepTime</th>\n",
       "      <td>1343.0</td>\n",
       "      <td>1125.0</td>\n",
       "      <td>2009.0</td>\n",
       "      <td>903.0</td>\n",
       "      <td>1423.0</td>\n",
       "    </tr>\n",
       "    <tr>\n",
       "      <th>UniqueCarrier</th>\n",
       "      <td>WN</td>\n",
       "      <td>WN</td>\n",
       "      <td>WN</td>\n",
       "      <td>WN</td>\n",
       "      <td>WN</td>\n",
       "    </tr>\n",
       "    <tr>\n",
       "      <th>FlightNum</th>\n",
       "      <td>588</td>\n",
       "      <td>1343</td>\n",
       "      <td>3841</td>\n",
       "      <td>3</td>\n",
       "      <td>25</td>\n",
       "    </tr>\n",
       "    <tr>\n",
       "      <th>ArrDelay</th>\n",
       "      <td>16.0</td>\n",
       "      <td>2.0</td>\n",
       "      <td>-4.0</td>\n",
       "      <td>-2.0</td>\n",
       "      <td>16.0</td>\n",
       "    </tr>\n",
       "    <tr>\n",
       "      <th>DepDelay</th>\n",
       "      <td>18.0</td>\n",
       "      <td>5.0</td>\n",
       "      <td>-6.0</td>\n",
       "      <td>8.0</td>\n",
       "      <td>23.0</td>\n",
       "    </tr>\n",
       "    <tr>\n",
       "      <th>Origin</th>\n",
       "      <td>HOU</td>\n",
       "      <td>HOU</td>\n",
       "      <td>HOU</td>\n",
       "      <td>HOU</td>\n",
       "      <td>HOU</td>\n",
       "    </tr>\n",
       "    <tr>\n",
       "      <th>Dest</th>\n",
       "      <td>LIT</td>\n",
       "      <td>MAF</td>\n",
       "      <td>MAF</td>\n",
       "      <td>MCO</td>\n",
       "      <td>MCO</td>\n",
       "    </tr>\n",
       "    <tr>\n",
       "      <th>Distance</th>\n",
       "      <td>393</td>\n",
       "      <td>441</td>\n",
       "      <td>441</td>\n",
       "      <td>848</td>\n",
       "      <td>848</td>\n",
       "    </tr>\n",
       "    <tr>\n",
       "      <th>Cancelled</th>\n",
       "      <td>0</td>\n",
       "      <td>0</td>\n",
       "      <td>0</td>\n",
       "      <td>0</td>\n",
       "      <td>0</td>\n",
       "    </tr>\n",
       "    <tr>\n",
       "      <th>CancellationCode</th>\n",
       "      <td>NaN</td>\n",
       "      <td>NaN</td>\n",
       "      <td>NaN</td>\n",
       "      <td>NaN</td>\n",
       "      <td>NaN</td>\n",
       "    </tr>\n",
       "    <tr>\n",
       "      <th>CarrierDelay</th>\n",
       "      <td>16.0</td>\n",
       "      <td>NaN</td>\n",
       "      <td>NaN</td>\n",
       "      <td>NaN</td>\n",
       "      <td>16.0</td>\n",
       "    </tr>\n",
       "    <tr>\n",
       "      <th>WeatherDelay</th>\n",
       "      <td>0.0</td>\n",
       "      <td>NaN</td>\n",
       "      <td>NaN</td>\n",
       "      <td>NaN</td>\n",
       "      <td>0.0</td>\n",
       "    </tr>\n",
       "    <tr>\n",
       "      <th>NASDelay</th>\n",
       "      <td>0.0</td>\n",
       "      <td>NaN</td>\n",
       "      <td>NaN</td>\n",
       "      <td>NaN</td>\n",
       "      <td>0.0</td>\n",
       "    </tr>\n",
       "    <tr>\n",
       "      <th>SecurityDelay</th>\n",
       "      <td>0.0</td>\n",
       "      <td>NaN</td>\n",
       "      <td>NaN</td>\n",
       "      <td>NaN</td>\n",
       "      <td>0.0</td>\n",
       "    </tr>\n",
       "    <tr>\n",
       "      <th>LateAircraftDelay</th>\n",
       "      <td>0.0</td>\n",
       "      <td>NaN</td>\n",
       "      <td>NaN</td>\n",
       "      <td>NaN</td>\n",
       "      <td>0.0</td>\n",
       "    </tr>\n",
       "  </tbody>\n",
       "</table>\n",
       "</div>"
      ],
      "text/plain": [
       "                        0       1       2      3       4\n",
       "Year                 2008    2008    2008   2008    2008\n",
       "Month                   1       1       1      1       1\n",
       "DayofMonth              3       3       3      3       3\n",
       "DayOfWeek               4       4       4      4       4\n",
       "DepTime            1343.0  1125.0  2009.0  903.0  1423.0\n",
       "UniqueCarrier          WN      WN      WN     WN      WN\n",
       "FlightNum             588    1343    3841      3      25\n",
       "ArrDelay             16.0     2.0    -4.0   -2.0    16.0\n",
       "DepDelay             18.0     5.0    -6.0    8.0    23.0\n",
       "Origin                HOU     HOU     HOU    HOU     HOU\n",
       "Dest                  LIT     MAF     MAF    MCO     MCO\n",
       "Distance              393     441     441    848     848\n",
       "Cancelled               0       0       0      0       0\n",
       "CancellationCode      NaN     NaN     NaN    NaN     NaN\n",
       "CarrierDelay         16.0     NaN     NaN    NaN    16.0\n",
       "WeatherDelay          0.0     NaN     NaN    NaN     0.0\n",
       "NASDelay              0.0     NaN     NaN    NaN     0.0\n",
       "SecurityDelay         0.0     NaN     NaN    NaN     0.0\n",
       "LateAircraftDelay     0.0     NaN     NaN    NaN     0.0"
      ]
     },
     "execution_count": 16,
     "metadata": {},
     "output_type": "execute_result"
    }
   ],
   "source": [
    "# Transposing the frame to see all features at once\n",
    "flights_df.head().transpose()"
   ]
  },
  {
   "cell_type": "code",
   "execution_count": 17,
   "id": "a10fbc94",
   "metadata": {},
   "outputs": [],
   "source": [
    "# Examining Data types of all features and total dataframe size in memory\n",
    "miss_percent = 100 * (flights_df.isnull().sum()/len(flights_df))"
   ]
  },
  {
   "cell_type": "code",
   "execution_count": 18,
   "id": "61b3ad92",
   "metadata": {},
   "outputs": [
    {
     "data": {
      "text/plain": [
       "Year                  0.000000\n",
       "Month                 0.000000\n",
       "DayofMonth            0.000000\n",
       "DayOfWeek             0.000000\n",
       "DepTime               2.697202\n",
       "UniqueCarrier         0.000000\n",
       "FlightNum             0.000000\n",
       "ArrDelay              2.933848\n",
       "DepDelay              2.697202\n",
       "Origin                0.000000\n",
       "Dest                  0.000000\n",
       "Distance              0.000000\n",
       "Cancelled             0.000000\n",
       "CancellationCode     97.302798\n",
       "CarrierDelay         75.532444\n",
       "WeatherDelay         75.532444\n",
       "NASDelay             75.532444\n",
       "SecurityDelay        75.532444\n",
       "LateAircraftDelay    75.532444\n",
       "dtype: float64"
      ]
     },
     "execution_count": 18,
     "metadata": {},
     "output_type": "execute_result"
    }
   ],
   "source": [
    "miss_percent"
   ]
  },
  {
   "cell_type": "code",
   "execution_count": 19,
   "id": "7bd0fd18",
   "metadata": {
    "scrolled": true
   },
   "outputs": [
    {
     "data": {
      "text/html": [
       "<div>\n",
       "<style scoped>\n",
       "    .dataframe tbody tr th:only-of-type {\n",
       "        vertical-align: middle;\n",
       "    }\n",
       "\n",
       "    .dataframe tbody tr th {\n",
       "        vertical-align: top;\n",
       "    }\n",
       "\n",
       "    .dataframe thead th {\n",
       "        text-align: right;\n",
       "    }\n",
       "</style>\n",
       "<table border=\"1\" class=\"dataframe\">\n",
       "  <thead>\n",
       "    <tr style=\"text-align: right;\">\n",
       "      <th></th>\n",
       "      <th>count</th>\n",
       "      <th>mean</th>\n",
       "      <th>std</th>\n",
       "      <th>min</th>\n",
       "      <th>25%</th>\n",
       "      <th>50%</th>\n",
       "      <th>75%</th>\n",
       "      <th>max</th>\n",
       "    </tr>\n",
       "  </thead>\n",
       "  <tbody>\n",
       "    <tr>\n",
       "      <th>Year</th>\n",
       "      <td>2389217.0</td>\n",
       "      <td>2008.000000</td>\n",
       "      <td>0.000000</td>\n",
       "      <td>2008.0</td>\n",
       "      <td>2008.0</td>\n",
       "      <td>2008.0</td>\n",
       "      <td>2008.0</td>\n",
       "      <td>2008.0</td>\n",
       "    </tr>\n",
       "    <tr>\n",
       "      <th>Month</th>\n",
       "      <td>2389217.0</td>\n",
       "      <td>2.505009</td>\n",
       "      <td>1.121493</td>\n",
       "      <td>1.0</td>\n",
       "      <td>1.0</td>\n",
       "      <td>3.0</td>\n",
       "      <td>4.0</td>\n",
       "      <td>4.0</td>\n",
       "    </tr>\n",
       "    <tr>\n",
       "      <th>DayofMonth</th>\n",
       "      <td>2389217.0</td>\n",
       "      <td>15.663856</td>\n",
       "      <td>8.750405</td>\n",
       "      <td>1.0</td>\n",
       "      <td>8.0</td>\n",
       "      <td>16.0</td>\n",
       "      <td>23.0</td>\n",
       "      <td>31.0</td>\n",
       "    </tr>\n",
       "    <tr>\n",
       "      <th>DayOfWeek</th>\n",
       "      <td>2389217.0</td>\n",
       "      <td>3.909625</td>\n",
       "      <td>1.980431</td>\n",
       "      <td>1.0</td>\n",
       "      <td>2.0</td>\n",
       "      <td>4.0</td>\n",
       "      <td>6.0</td>\n",
       "      <td>7.0</td>\n",
       "    </tr>\n",
       "    <tr>\n",
       "      <th>DepTime</th>\n",
       "      <td>2324775.0</td>\n",
       "      <td>NaN</td>\n",
       "      <td>NaN</td>\n",
       "      <td>1.0</td>\n",
       "      <td>930.0</td>\n",
       "      <td>1330.0</td>\n",
       "      <td>1733.0</td>\n",
       "      <td>2400.0</td>\n",
       "    </tr>\n",
       "    <tr>\n",
       "      <th>FlightNum</th>\n",
       "      <td>2389217.0</td>\n",
       "      <td>2213.887980</td>\n",
       "      <td>1951.392101</td>\n",
       "      <td>1.0</td>\n",
       "      <td>605.0</td>\n",
       "      <td>1544.0</td>\n",
       "      <td>3631.0</td>\n",
       "      <td>9741.0</td>\n",
       "    </tr>\n",
       "    <tr>\n",
       "      <th>ArrDelay</th>\n",
       "      <td>2319121.0</td>\n",
       "      <td>NaN</td>\n",
       "      <td>NaN</td>\n",
       "      <td>-91.0</td>\n",
       "      <td>-9.0</td>\n",
       "      <td>0.0</td>\n",
       "      <td>15.0</td>\n",
       "      <td>2460.0</td>\n",
       "    </tr>\n",
       "    <tr>\n",
       "      <th>DepDelay</th>\n",
       "      <td>2324775.0</td>\n",
       "      <td>NaN</td>\n",
       "      <td>NaN</td>\n",
       "      <td>-92.0</td>\n",
       "      <td>-4.0</td>\n",
       "      <td>0.0</td>\n",
       "      <td>11.0</td>\n",
       "      <td>2468.0</td>\n",
       "    </tr>\n",
       "    <tr>\n",
       "      <th>Distance</th>\n",
       "      <td>2389217.0</td>\n",
       "      <td>726.158911</td>\n",
       "      <td>557.176261</td>\n",
       "      <td>17.0</td>\n",
       "      <td>325.0</td>\n",
       "      <td>583.0</td>\n",
       "      <td>957.0</td>\n",
       "      <td>4962.0</td>\n",
       "    </tr>\n",
       "    <tr>\n",
       "      <th>Cancelled</th>\n",
       "      <td>2389217.0</td>\n",
       "      <td>0.026972</td>\n",
       "      <td>0.162002</td>\n",
       "      <td>0.0</td>\n",
       "      <td>0.0</td>\n",
       "      <td>0.0</td>\n",
       "      <td>0.0</td>\n",
       "      <td>1.0</td>\n",
       "    </tr>\n",
       "    <tr>\n",
       "      <th>CarrierDelay</th>\n",
       "      <td>584583.0</td>\n",
       "      <td>NaN</td>\n",
       "      <td>NaN</td>\n",
       "      <td>0.0</td>\n",
       "      <td>0.0</td>\n",
       "      <td>0.0</td>\n",
       "      <td>16.0</td>\n",
       "      <td>2436.0</td>\n",
       "    </tr>\n",
       "    <tr>\n",
       "      <th>WeatherDelay</th>\n",
       "      <td>584583.0</td>\n",
       "      <td>NaN</td>\n",
       "      <td>NaN</td>\n",
       "      <td>0.0</td>\n",
       "      <td>0.0</td>\n",
       "      <td>0.0</td>\n",
       "      <td>0.0</td>\n",
       "      <td>1148.0</td>\n",
       "    </tr>\n",
       "    <tr>\n",
       "      <th>NASDelay</th>\n",
       "      <td>584583.0</td>\n",
       "      <td>NaN</td>\n",
       "      <td>NaN</td>\n",
       "      <td>0.0</td>\n",
       "      <td>0.0</td>\n",
       "      <td>5.0</td>\n",
       "      <td>20.0</td>\n",
       "      <td>1357.0</td>\n",
       "    </tr>\n",
       "    <tr>\n",
       "      <th>SecurityDelay</th>\n",
       "      <td>584583.0</td>\n",
       "      <td>0.080444</td>\n",
       "      <td>NaN</td>\n",
       "      <td>0.0</td>\n",
       "      <td>0.0</td>\n",
       "      <td>0.0</td>\n",
       "      <td>0.0</td>\n",
       "      <td>392.0</td>\n",
       "    </tr>\n",
       "    <tr>\n",
       "      <th>LateAircraftDelay</th>\n",
       "      <td>584583.0</td>\n",
       "      <td>NaN</td>\n",
       "      <td>NaN</td>\n",
       "      <td>0.0</td>\n",
       "      <td>0.0</td>\n",
       "      <td>0.0</td>\n",
       "      <td>27.0</td>\n",
       "      <td>1254.0</td>\n",
       "    </tr>\n",
       "  </tbody>\n",
       "</table>\n",
       "</div>"
      ],
      "text/plain": [
       "                       count         mean          std     min     25%  \\\n",
       "Year               2389217.0  2008.000000     0.000000  2008.0  2008.0   \n",
       "Month              2389217.0     2.505009     1.121493     1.0     1.0   \n",
       "DayofMonth         2389217.0    15.663856     8.750405     1.0     8.0   \n",
       "DayOfWeek          2389217.0     3.909625     1.980431     1.0     2.0   \n",
       "DepTime            2324775.0          NaN          NaN     1.0   930.0   \n",
       "FlightNum          2389217.0  2213.887980  1951.392101     1.0   605.0   \n",
       "ArrDelay           2319121.0          NaN          NaN   -91.0    -9.0   \n",
       "DepDelay           2324775.0          NaN          NaN   -92.0    -4.0   \n",
       "Distance           2389217.0   726.158911   557.176261    17.0   325.0   \n",
       "Cancelled          2389217.0     0.026972     0.162002     0.0     0.0   \n",
       "CarrierDelay        584583.0          NaN          NaN     0.0     0.0   \n",
       "WeatherDelay        584583.0          NaN          NaN     0.0     0.0   \n",
       "NASDelay            584583.0          NaN          NaN     0.0     0.0   \n",
       "SecurityDelay       584583.0     0.080444          NaN     0.0     0.0   \n",
       "LateAircraftDelay   584583.0          NaN          NaN     0.0     0.0   \n",
       "\n",
       "                      50%     75%     max  \n",
       "Year               2008.0  2008.0  2008.0  \n",
       "Month                 3.0     4.0     4.0  \n",
       "DayofMonth           16.0    23.0    31.0  \n",
       "DayOfWeek             4.0     6.0     7.0  \n",
       "DepTime            1330.0  1733.0  2400.0  \n",
       "FlightNum          1544.0  3631.0  9741.0  \n",
       "ArrDelay              0.0    15.0  2460.0  \n",
       "DepDelay              0.0    11.0  2468.0  \n",
       "Distance            583.0   957.0  4962.0  \n",
       "Cancelled             0.0     0.0     1.0  \n",
       "CarrierDelay          0.0    16.0  2436.0  \n",
       "WeatherDelay          0.0     0.0  1148.0  \n",
       "NASDelay              5.0    20.0  1357.0  \n",
       "SecurityDelay         0.0     0.0   392.0  \n",
       "LateAircraftDelay     0.0    27.0  1254.0  "
      ]
     },
     "execution_count": 19,
     "metadata": {},
     "output_type": "execute_result"
    }
   ],
   "source": [
    "# Basic Stats for Each feature\n",
    "flights_df.describe().T"
   ]
  },
  {
   "cell_type": "code",
   "execution_count": 20,
   "id": "93da236b",
   "metadata": {},
   "outputs": [
    {
     "data": {
      "text/plain": [
       "20"
      ]
     },
     "execution_count": 20,
     "metadata": {},
     "output_type": "execute_result"
    }
   ],
   "source": [
    "# count unique carriers and plot their relative share of flights\n",
    "flights_df.nunique()['UniqueCarrier']"
   ]
  },
  {
   "cell_type": "code",
   "execution_count": 21,
   "id": "5a34ddd6",
   "metadata": {},
   "outputs": [
    {
     "data": {
      "text/plain": [
       "UniqueCarrier\n",
       "WN    398966\n",
       "AA    204519\n",
       "OO    195184\n",
       "MQ    167860\n",
       "UA    154036\n",
       "US    153539\n",
       "DL    151409\n",
       "XE    138757\n",
       "NW    122799\n",
       "CO    102702\n",
       "EV     92383\n",
       "9E     88359\n",
       "FL     86856\n",
       "YV     85686\n",
       "OH     71934\n",
       "B6     67478\n",
       "AS     49885\n",
       "F9     30680\n",
       "HA     18385\n",
       "AQ      7800\n",
       "dtype: int64"
      ]
     },
     "execution_count": 21,
     "metadata": {},
     "output_type": "execute_result"
    }
   ],
   "source": [
    "flights_df.groupby('UniqueCarrier').size().sort_values(ascending=False)"
   ]
  },
  {
   "cell_type": "code",
   "execution_count": 22,
   "id": "53593d5e",
   "metadata": {},
   "outputs": [
    {
     "data": {
      "text/plain": [
       "<AxesSubplot:xlabel='UniqueCarrier'>"
      ]
     },
     "execution_count": 22,
     "metadata": {},
     "output_type": "execute_result"
    },
    {
     "data": {
      "image/png": "[encoded data removed]",
      "text/plain": [
       "<Figure size 640x480 with 1 Axes>"
      ]
     },
     "metadata": {},
     "output_type": "display_data"
    }
   ],
   "source": [
    "flights_df.groupby('UniqueCarrier').size().plot(kind='bar')"
   ]
  },
  {
   "cell_type": "markdown",
   "id": "d53dc79f",
   "metadata": {},
   "source": [
    "#### Grouping by categories can enable us to calculate different aggregated stats. E.g finding top-3 flight codes, that have the largest total distance travelled in year 2008."
   ]
  },
  {
   "cell_type": "code",
   "execution_count": 23,
   "id": "347070cc",
   "metadata": {},
   "outputs": [
    {
     "data": {
      "text/html": [
       "<div>\n",
       "<style scoped>\n",
       "    .dataframe tbody tr th:only-of-type {\n",
       "        vertical-align: middle;\n",
       "    }\n",
       "\n",
       "    .dataframe tbody tr th {\n",
       "        vertical-align: top;\n",
       "    }\n",
       "\n",
       "    .dataframe thead tr th {\n",
       "        text-align: left;\n",
       "    }\n",
       "\n",
       "    .dataframe thead tr:last-of-type th {\n",
       "        text-align: right;\n",
       "    }\n",
       "</style>\n",
       "<table border=\"1\" class=\"dataframe\">\n",
       "  <thead>\n",
       "    <tr>\n",
       "      <th></th>\n",
       "      <th></th>\n",
       "      <th colspan=\"3\" halign=\"left\">Distance</th>\n",
       "      <th>Cancelled</th>\n",
       "    </tr>\n",
       "    <tr>\n",
       "      <th></th>\n",
       "      <th></th>\n",
       "      <th>mean</th>\n",
       "      <th>sum</th>\n",
       "      <th>count</th>\n",
       "      <th>sum</th>\n",
       "    </tr>\n",
       "    <tr>\n",
       "      <th>UniqueCarrier</th>\n",
       "      <th>FlightNum</th>\n",
       "      <th></th>\n",
       "      <th></th>\n",
       "      <th></th>\n",
       "      <th></th>\n",
       "    </tr>\n",
       "  </thead>\n",
       "  <tbody>\n",
       "    <tr>\n",
       "      <th>UA</th>\n",
       "      <th>3</th>\n",
       "      <td>2827.0</td>\n",
       "      <td>729366.0</td>\n",
       "      <td>258</td>\n",
       "      <td>4</td>\n",
       "    </tr>\n",
       "    <tr>\n",
       "      <th rowspan=\"2\" valign=\"top\">CO</th>\n",
       "      <th>15</th>\n",
       "      <td>4962.0</td>\n",
       "      <td>600402.0</td>\n",
       "      <td>121</td>\n",
       "      <td>0</td>\n",
       "    </tr>\n",
       "    <tr>\n",
       "      <th>14</th>\n",
       "      <td>4962.0</td>\n",
       "      <td>600402.0</td>\n",
       "      <td>121</td>\n",
       "      <td>0</td>\n",
       "    </tr>\n",
       "  </tbody>\n",
       "</table>\n",
       "</div>"
      ],
      "text/plain": [
       "                        Distance                 Cancelled\n",
       "                            mean       sum count       sum\n",
       "UniqueCarrier FlightNum                                   \n",
       "UA            3           2827.0  729366.0   258         4\n",
       "CO            15          4962.0  600402.0   121         0\n",
       "              14          4962.0  600402.0   121         0"
      ]
     },
     "execution_count": 23,
     "metadata": {},
     "output_type": "execute_result"
    }
   ],
   "source": [
    "flights_df.groupby(['UniqueCarrier', 'FlightNum'])\\\n",
    "    .agg({'Distance': [np.mean, np.sum, 'count'], 'Cancelled': np.sum})\\\n",
    "    .sort_values(('Distance', 'sum'), ascending=False)\\\n",
    "    .iloc[0:3]"
   ]
  },
  {
   "cell_type": "code",
   "execution_count": 25,
   "id": "13063586",
   "metadata": {},
   "outputs": [
    {
     "data": {
      "text/plain": [
       "UniqueCarrier  FlightNum\n",
       "UA             3            729366.0\n",
       "CO             15           600402.0\n",
       "               14           600402.0\n",
       "Name: Distance, dtype: float64"
      ]
     },
     "execution_count": 25,
     "metadata": {},
     "output_type": "execute_result"
    }
   ],
   "source": [
    "# Another method\n",
    "flights_df.groupby(['UniqueCarrier', 'FlightNum'])['Distance'].sum().sort_values(ascending=False).iloc[:3]"
   ]
  },
  {
   "cell_type": "code",
   "execution_count": 30,
   "id": "56ce4e09",
   "metadata": {},
   "outputs": [
    {
     "data": {
      "text/html": [
       "<div>\n",
       "<style scoped>\n",
       "    .dataframe tbody tr th:only-of-type {\n",
       "        vertical-align: middle;\n",
       "    }\n",
       "\n",
       "    .dataframe tbody tr th {\n",
       "        vertical-align: top;\n",
       "    }\n",
       "\n",
       "    .dataframe thead th {\n",
       "        text-align: right;\n",
       "    }\n",
       "</style>\n",
       "<table border=\"1\" class=\"dataframe\">\n",
       "  <thead>\n",
       "    <tr style=\"text-align: right;\">\n",
       "      <th>DayOfWeek</th>\n",
       "      <th>1</th>\n",
       "      <th>2</th>\n",
       "      <th>3</th>\n",
       "      <th>4</th>\n",
       "      <th>5</th>\n",
       "      <th>6</th>\n",
       "      <th>7</th>\n",
       "    </tr>\n",
       "    <tr>\n",
       "      <th>Month</th>\n",
       "      <th></th>\n",
       "      <th></th>\n",
       "      <th></th>\n",
       "      <th></th>\n",
       "      <th></th>\n",
       "      <th></th>\n",
       "      <th></th>\n",
       "    </tr>\n",
       "  </thead>\n",
       "  <tbody>\n",
       "    <tr>\n",
       "      <th>1</th>\n",
       "      <td>80807</td>\n",
       "      <td>97298</td>\n",
       "      <td>100080</td>\n",
       "      <td>102043</td>\n",
       "      <td>81940</td>\n",
       "      <td>67178</td>\n",
       "      <td>76419</td>\n",
       "    </tr>\n",
       "    <tr>\n",
       "      <th>2</th>\n",
       "      <td>81504</td>\n",
       "      <td>79700</td>\n",
       "      <td>80587</td>\n",
       "      <td>82158</td>\n",
       "      <td>102726</td>\n",
       "      <td>66462</td>\n",
       "      <td>76099</td>\n",
       "    </tr>\n",
       "    <tr>\n",
       "      <th>3</th>\n",
       "      <td>103210</td>\n",
       "      <td>81159</td>\n",
       "      <td>82307</td>\n",
       "      <td>82831</td>\n",
       "      <td>82936</td>\n",
       "      <td>86153</td>\n",
       "      <td>97494</td>\n",
       "    </tr>\n",
       "    <tr>\n",
       "      <th>4</th>\n",
       "      <td>82463</td>\n",
       "      <td>100785</td>\n",
       "      <td>102586</td>\n",
       "      <td>82799</td>\n",
       "      <td>82964</td>\n",
       "      <td>68304</td>\n",
       "      <td>78225</td>\n",
       "    </tr>\n",
       "  </tbody>\n",
       "</table>\n",
       "</div>"
      ],
      "text/plain": [
       "DayOfWeek       1       2       3       4       5      6      7\n",
       "Month                                                          \n",
       "1           80807   97298  100080  102043   81940  67178  76419\n",
       "2           81504   79700   80587   82158  102726  66462  76099\n",
       "3          103210   81159   82307   82831   82936  86153  97494\n",
       "4           82463  100785  102586   82799   82964  68304  78225"
      ]
     },
     "execution_count": 30,
     "metadata": {},
     "output_type": "execute_result"
    }
   ],
   "source": [
    "# Number of flights by days of week and months:\n",
    "pd.crosstab(flights_df.Month, flights_df.DayOfWeek)"
   ]
  },
  {
   "cell_type": "code",
   "execution_count": 32,
   "id": "30c14ea9",
   "metadata": {},
   "outputs": [
    {
     "data": {
      "image/png": "[encoded data removed]",
      "text/plain": [
       "<Figure size 640x480 with 1 Axes>"
      ]
     },
     "metadata": {},
     "output_type": "display_data"
    }
   ],
   "source": [
    "# coloring tables in order to easily notice outliers:\n",
    "plt.imshow(pd.crosstab(flights_df.Month, flights_df.DayOfWeek),\n",
    "          cmap = 'seismic', interpolation='None');"
   ]
  },
  {
   "cell_type": "code",
   "execution_count": 142,
   "id": "e91ee3b0",
   "metadata": {},
   "outputs": [
    {
     "ename": "AttributeError",
     "evalue": "'Rectangle' object has no property 'bin'",
     "output_type": "error",
     "traceback": [
      "\u001b[1;31m---------------------------------------------------------------------------\u001b[0m",
      "\u001b[1;31mAttributeError\u001b[0m                            Traceback (most recent call last)",
      "\u001b[1;32m~\\AppData\\Local\\Temp\\ipykernel_10176\\3645671120.py\u001b[0m in \u001b[0;36m<module>\u001b[1;34m\u001b[0m\n\u001b[1;32m----> 1\u001b[1;33m \u001b[0mflights_df\u001b[0m\u001b[1;33m.\u001b[0m\u001b[0mhist\u001b[0m\u001b[1;33m(\u001b[0m\u001b[1;34m'Distance'\u001b[0m\u001b[1;33m,\u001b[0m \u001b[0mbin\u001b[0m\u001b[1;33m=\u001b[0m\u001b[1;36m20\u001b[0m\u001b[1;33m)\u001b[0m\u001b[1;33m\u001b[0m\u001b[1;33m\u001b[0m\u001b[0m\n\u001b[0m",
      "\u001b[1;32m~\\anaconda3\\lib\\site-packages\\pandas\\plotting\\_core.py\u001b[0m in \u001b[0;36mhist_frame\u001b[1;34m(data, column, by, grid, xlabelsize, xrot, ylabelsize, yrot, ax, sharex, sharey, figsize, layout, bins, backend, legend, **kwargs)\u001b[0m\n\u001b[0;32m    224\u001b[0m     \"\"\"\n\u001b[0;32m    225\u001b[0m     \u001b[0mplot_backend\u001b[0m \u001b[1;33m=\u001b[0m \u001b[0m_get_plot_backend\u001b[0m\u001b[1;33m(\u001b[0m\u001b[0mbackend\u001b[0m\u001b[1;33m)\u001b[0m\u001b[1;33m\u001b[0m\u001b[1;33m\u001b[0m\u001b[0m\n\u001b[1;32m--> 226\u001b[1;33m     return plot_backend.hist_frame(\n\u001b[0m\u001b[0;32m    227\u001b[0m         \u001b[0mdata\u001b[0m\u001b[1;33m,\u001b[0m\u001b[1;33m\u001b[0m\u001b[1;33m\u001b[0m\u001b[0m\n\u001b[0;32m    228\u001b[0m         \u001b[0mcolumn\u001b[0m\u001b[1;33m=\u001b[0m\u001b[0mcolumn\u001b[0m\u001b[1;33m,\u001b[0m\u001b[1;33m\u001b[0m\u001b[1;33m\u001b[0m\u001b[0m\n",
      "\u001b[1;32m~\\anaconda3\\lib\\site-packages\\pandas\\plotting\\_matplotlib\\hist.py\u001b[0m in \u001b[0;36mhist_frame\u001b[1;34m(data, column, by, grid, xlabelsize, xrot, ylabelsize, yrot, ax, sharex, sharey, figsize, layout, bins, legend, **kwds)\u001b[0m\n\u001b[0;32m    499\u001b[0m         \u001b[1;32mif\u001b[0m \u001b[0mlegend\u001b[0m \u001b[1;32mand\u001b[0m \u001b[0mcan_set_label\u001b[0m\u001b[1;33m:\u001b[0m\u001b[1;33m\u001b[0m\u001b[1;33m\u001b[0m\u001b[0m\n\u001b[0;32m    500\u001b[0m             \u001b[0mkwds\u001b[0m\u001b[1;33m[\u001b[0m\u001b[1;34m\"label\"\u001b[0m\u001b[1;33m]\u001b[0m \u001b[1;33m=\u001b[0m \u001b[0mcol\u001b[0m\u001b[1;33m\u001b[0m\u001b[1;33m\u001b[0m\u001b[0m\n\u001b[1;32m--> 501\u001b[1;33m         \u001b[0max\u001b[0m\u001b[1;33m.\u001b[0m\u001b[0mhist\u001b[0m\u001b[1;33m(\u001b[0m\u001b[0mdata\u001b[0m\u001b[1;33m[\u001b[0m\u001b[0mcol\u001b[0m\u001b[1;33m]\u001b[0m\u001b[1;33m.\u001b[0m\u001b[0mdropna\u001b[0m\u001b[1;33m(\u001b[0m\u001b[1;33m)\u001b[0m\u001b[1;33m.\u001b[0m\u001b[0mvalues\u001b[0m\u001b[1;33m,\u001b[0m \u001b[0mbins\u001b[0m\u001b[1;33m=\u001b[0m\u001b[0mbins\u001b[0m\u001b[1;33m,\u001b[0m \u001b[1;33m**\u001b[0m\u001b[0mkwds\u001b[0m\u001b[1;33m)\u001b[0m\u001b[1;33m\u001b[0m\u001b[1;33m\u001b[0m\u001b[0m\n\u001b[0m\u001b[0;32m    502\u001b[0m         \u001b[0max\u001b[0m\u001b[1;33m.\u001b[0m\u001b[0mset_title\u001b[0m\u001b[1;33m(\u001b[0m\u001b[0mcol\u001b[0m\u001b[1;33m)\u001b[0m\u001b[1;33m\u001b[0m\u001b[1;33m\u001b[0m\u001b[0m\n\u001b[0;32m    503\u001b[0m         \u001b[0max\u001b[0m\u001b[1;33m.\u001b[0m\u001b[0mgrid\u001b[0m\u001b[1;33m(\u001b[0m\u001b[0mgrid\u001b[0m\u001b[1;33m)\u001b[0m\u001b[1;33m\u001b[0m\u001b[1;33m\u001b[0m\u001b[0m\n",
      "\u001b[1;32m~\\anaconda3\\lib\\site-packages\\matplotlib\\__init__.py\u001b[0m in \u001b[0;36minner\u001b[1;34m(ax, data, *args, **kwargs)\u001b[0m\n\u001b[0;32m   1410\u001b[0m     \u001b[1;32mdef\u001b[0m \u001b[0minner\u001b[0m\u001b[1;33m(\u001b[0m\u001b[0max\u001b[0m\u001b[1;33m,\u001b[0m \u001b[1;33m*\u001b[0m\u001b[0margs\u001b[0m\u001b[1;33m,\u001b[0m \u001b[0mdata\u001b[0m\u001b[1;33m=\u001b[0m\u001b[1;32mNone\u001b[0m\u001b[1;33m,\u001b[0m \u001b[1;33m**\u001b[0m\u001b[0mkwargs\u001b[0m\u001b[1;33m)\u001b[0m\u001b[1;33m:\u001b[0m\u001b[1;33m\u001b[0m\u001b[1;33m\u001b[0m\u001b[0m\n\u001b[0;32m   1411\u001b[0m         \u001b[1;32mif\u001b[0m \u001b[0mdata\u001b[0m \u001b[1;32mis\u001b[0m \u001b[1;32mNone\u001b[0m\u001b[1;33m:\u001b[0m\u001b[1;33m\u001b[0m\u001b[1;33m\u001b[0m\u001b[0m\n\u001b[1;32m-> 1412\u001b[1;33m             \u001b[1;32mreturn\u001b[0m \u001b[0mfunc\u001b[0m\u001b[1;33m(\u001b[0m\u001b[0max\u001b[0m\u001b[1;33m,\u001b[0m \u001b[1;33m*\u001b[0m\u001b[0mmap\u001b[0m\u001b[1;33m(\u001b[0m\u001b[0msanitize_sequence\u001b[0m\u001b[1;33m,\u001b[0m \u001b[0margs\u001b[0m\u001b[1;33m)\u001b[0m\u001b[1;33m,\u001b[0m \u001b[1;33m**\u001b[0m\u001b[0mkwargs\u001b[0m\u001b[1;33m)\u001b[0m\u001b[1;33m\u001b[0m\u001b[1;33m\u001b[0m\u001b[0m\n\u001b[0m\u001b[0;32m   1413\u001b[0m \u001b[1;33m\u001b[0m\u001b[0m\n\u001b[0;32m   1414\u001b[0m         \u001b[0mbound\u001b[0m \u001b[1;33m=\u001b[0m \u001b[0mnew_sig\u001b[0m\u001b[1;33m.\u001b[0m\u001b[0mbind\u001b[0m\u001b[1;33m(\u001b[0m\u001b[0max\u001b[0m\u001b[1;33m,\u001b[0m \u001b[1;33m*\u001b[0m\u001b[0margs\u001b[0m\u001b[1;33m,\u001b[0m \u001b[1;33m**\u001b[0m\u001b[0mkwargs\u001b[0m\u001b[1;33m)\u001b[0m\u001b[1;33m\u001b[0m\u001b[1;33m\u001b[0m\u001b[0m\n",
      "\u001b[1;32m~\\anaconda3\\lib\\site-packages\\matplotlib\\axes\\_axes.py\u001b[0m in \u001b[0;36mhist\u001b[1;34m(self, x, bins, range, density, weights, cumulative, bottom, histtype, align, orientation, rwidth, log, color, label, stacked, **kwargs)\u001b[0m\n\u001b[0;32m   6785\u001b[0m             \u001b[1;32mif\u001b[0m \u001b[0mpatch\u001b[0m\u001b[1;33m:\u001b[0m\u001b[1;33m\u001b[0m\u001b[1;33m\u001b[0m\u001b[0m\n\u001b[0;32m   6786\u001b[0m                 \u001b[0mp\u001b[0m \u001b[1;33m=\u001b[0m \u001b[0mpatch\u001b[0m\u001b[1;33m[\u001b[0m\u001b[1;36m0\u001b[0m\u001b[1;33m]\u001b[0m\u001b[1;33m\u001b[0m\u001b[1;33m\u001b[0m\u001b[0m\n\u001b[1;32m-> 6787\u001b[1;33m                 \u001b[0mp\u001b[0m\u001b[1;33m.\u001b[0m\u001b[0mupdate\u001b[0m\u001b[1;33m(\u001b[0m\u001b[0mkwargs\u001b[0m\u001b[1;33m)\u001b[0m\u001b[1;33m\u001b[0m\u001b[1;33m\u001b[0m\u001b[0m\n\u001b[0m\u001b[0;32m   6788\u001b[0m                 \u001b[1;32mif\u001b[0m \u001b[0mlbl\u001b[0m \u001b[1;32mis\u001b[0m \u001b[1;32mnot\u001b[0m \u001b[1;32mNone\u001b[0m\u001b[1;33m:\u001b[0m\u001b[1;33m\u001b[0m\u001b[1;33m\u001b[0m\u001b[0m\n\u001b[0;32m   6789\u001b[0m                     \u001b[0mp\u001b[0m\u001b[1;33m.\u001b[0m\u001b[0mset_label\u001b[0m\u001b[1;33m(\u001b[0m\u001b[0mlbl\u001b[0m\u001b[1;33m)\u001b[0m\u001b[1;33m\u001b[0m\u001b[1;33m\u001b[0m\u001b[0m\n",
      "\u001b[1;32m~\\anaconda3\\lib\\site-packages\\matplotlib\\artist.py\u001b[0m in \u001b[0;36mupdate\u001b[1;34m(self, props)\u001b[0m\n\u001b[0;32m   1062\u001b[0m                     \u001b[0mfunc\u001b[0m \u001b[1;33m=\u001b[0m \u001b[0mgetattr\u001b[0m\u001b[1;33m(\u001b[0m\u001b[0mself\u001b[0m\u001b[1;33m,\u001b[0m \u001b[1;34mf\"set_{k}\"\u001b[0m\u001b[1;33m,\u001b[0m \u001b[1;32mNone\u001b[0m\u001b[1;33m)\u001b[0m\u001b[1;33m\u001b[0m\u001b[1;33m\u001b[0m\u001b[0m\n\u001b[0;32m   1063\u001b[0m                     \u001b[1;32mif\u001b[0m \u001b[1;32mnot\u001b[0m \u001b[0mcallable\u001b[0m\u001b[1;33m(\u001b[0m\u001b[0mfunc\u001b[0m\u001b[1;33m)\u001b[0m\u001b[1;33m:\u001b[0m\u001b[1;33m\u001b[0m\u001b[1;33m\u001b[0m\u001b[0m\n\u001b[1;32m-> 1064\u001b[1;33m                         raise AttributeError(f\"{type(self).__name__!r} object \"\n\u001b[0m\u001b[0;32m   1065\u001b[0m                                              f\"has no property {k!r}\")\n\u001b[0;32m   1066\u001b[0m                     \u001b[0mret\u001b[0m\u001b[1;33m.\u001b[0m\u001b[0mappend\u001b[0m\u001b[1;33m(\u001b[0m\u001b[0mfunc\u001b[0m\u001b[1;33m(\u001b[0m\u001b[0mv\u001b[0m\u001b[1;33m)\u001b[0m\u001b[1;33m)\u001b[0m\u001b[1;33m\u001b[0m\u001b[1;33m\u001b[0m\u001b[0m\n",
      "\u001b[1;31mAttributeError\u001b[0m: 'Rectangle' object has no property 'bin'"
     ]
    },
    {
     "data": {
      "image/png": "[encoded data removed]",
      "text/plain": [
       "<Figure size 640x480 with 1 Axes>"
      ]
     },
     "metadata": {},
     "output_type": "display_data"
    }
   ],
   "source": [
    "flights_df.hist('Distance', bin=20)"
   ]
  },
  {
   "cell_type": "code",
   "execution_count": 36,
   "id": "852f5c06",
   "metadata": {},
   "outputs": [],
   "source": [
    "flights_df['Date'] = pd.to_datetime(flights_df.rename(\n",
    "    columns={'DayofMonth': 'Day'})[['Year', 'Month', 'Day']])"
   ]
  },
  {
   "cell_type": "code",
   "execution_count": 37,
   "id": "790fdd81",
   "metadata": {},
   "outputs": [],
   "source": [
    "num_flights_by_date = flights_df.groupby('Date').size()"
   ]
  },
  {
   "cell_type": "code",
   "execution_count": 38,
   "id": "d91acf22",
   "metadata": {},
   "outputs": [
    {
     "data": {
      "text/plain": [
       "<AxesSubplot:xlabel='Date'>"
      ]
     },
     "execution_count": 38,
     "metadata": {},
     "output_type": "execute_result"
    },
    {
     "data": {
      "image/png": "[encoded data removed]",
      "text/plain": [
       "<Figure size 640x480 with 1 Axes>"
      ]
     },
     "metadata": {},
     "output_type": "display_data"
    }
   ],
   "source": [
    "num_flights_by_date.plot()"
   ]
  },
  {
   "cell_type": "code",
   "execution_count": 39,
   "id": "c865717e",
   "metadata": {},
   "outputs": [
    {
     "data": {
      "text/plain": [
       "<AxesSubplot:xlabel='Date'>"
      ]
     },
     "execution_count": 39,
     "metadata": {},
     "output_type": "execute_result"
    },
    {
     "data": {
      "image/png": "[encoded data removed]",
      "text/plain": [
       "<Figure size 640x480 with 1 Axes>"
      ]
     },
     "metadata": {},
     "output_type": "display_data"
    }
   ],
   "source": [
    "num_flights_by_date.rolling(window=7).mean().plot()"
   ]
  },
  {
   "cell_type": "code",
   "execution_count": 42,
   "id": "bac529a6",
   "metadata": {},
   "outputs": [
    {
     "data": {
      "text/plain": [
       "20"
      ]
     },
     "execution_count": 42,
     "metadata": {},
     "output_type": "execute_result"
    }
   ],
   "source": [
    "# 1. How many unique carriers are there in our dataset?\n",
    "flights_df.nunique()['UniqueCarrier']"
   ]
  },
  {
   "cell_type": "code",
   "execution_count": 114,
   "id": "43afda65",
   "metadata": {},
   "outputs": [
    {
     "data": {
      "text/plain": [
       "2324775"
      ]
     },
     "execution_count": 114,
     "metadata": {},
     "output_type": "execute_result"
    }
   ],
   "source": [
    "# 2. We have both cancelled and completed flights in the dataset. Check if there are more completed or cancelled flights. What is the difference?\n",
    "\n",
    "# count the number of completed and cancelled flights\n",
    "completed_flights = len(flights_df[flights_df['Cancelled']==0])\n",
    "cancelled_flights = len(flights_df[flights_df['Cancelled']==1])\n",
    "\n",
    "#finding the difference\n",
    "difference = completed_flights - cancelled_flights\n",
    "difference\n"
   ]
  },
  {
   "cell_type": "code",
   "execution_count": 213,
   "id": "7a62db53",
   "metadata": {
    "scrolled": true
   },
   "outputs": [
    {
     "data": {
      "text/html": [
       "<div>\n",
       "<style scoped>\n",
       "    .dataframe tbody tr th:only-of-type {\n",
       "        vertical-align: middle;\n",
       "    }\n",
       "\n",
       "    .dataframe tbody tr th {\n",
       "        vertical-align: top;\n",
       "    }\n",
       "\n",
       "    .dataframe thead th {\n",
       "        text-align: right;\n",
       "    }\n",
       "</style>\n",
       "<table border=\"1\" class=\"dataframe\">\n",
       "  <thead>\n",
       "    <tr style=\"text-align: right;\">\n",
       "      <th></th>\n",
       "      <th>DepDelay</th>\n",
       "      <th>ArrDelay</th>\n",
       "    </tr>\n",
       "    <tr>\n",
       "      <th>Dest</th>\n",
       "      <th></th>\n",
       "      <th></th>\n",
       "    </tr>\n",
       "  </thead>\n",
       "  <tbody>\n",
       "    <tr>\n",
       "      <th>MSP</th>\n",
       "      <td>2468.0</td>\n",
       "      <td>2460.0</td>\n",
       "    </tr>\n",
       "  </tbody>\n",
       "</table>\n",
       "</div>"
      ],
      "text/plain": [
       "      DepDelay  ArrDelay\n",
       "Dest                    \n",
       "MSP     2468.0    2460.0"
      ]
     },
     "execution_count": 213,
     "metadata": {},
     "output_type": "execute_result"
    }
   ],
   "source": [
    "# 3. Find a flight with the longest departure delays and a flight with the longest arrival delay. \n",
    "# Do they have the same destination airport, and if yes, what is its code?\n",
    "flights_df.groupby(['Dest'])\\\n",
    "    .agg({'DepDelay': np.max, 'ArrDelay': np.max})\\\n",
    "    .sort_values(('DepDelay'), ascending=False)\\\n",
    "    .iloc[0:1]"
   ]
  },
  {
   "cell_type": "code",
   "execution_count": 184,
   "id": "6b32f669",
   "metadata": {},
   "outputs": [
    {
     "data": {
      "text/plain": [
       "AA    10784\n",
       "MQ     8960\n",
       "OO     6773\n",
       "YV     5150\n",
       "UA     4616\n",
       "WN     4380\n",
       "9E     4097\n",
       "XE     3925\n",
       "DL     3051\n",
       "OH     2618\n",
       "US     2390\n",
       "EV     2346\n",
       "NW     1407\n",
       "CO     1084\n",
       "FL      903\n",
       "B6      902\n",
       "AS      804\n",
       "HA      112\n",
       "F9       98\n",
       "AQ       42\n",
       "Name: UniqueCarrier, dtype: int64"
      ]
     },
     "execution_count": 184,
     "metadata": {},
     "output_type": "execute_result"
    }
   ],
   "source": [
    "# 4. Find the carrier that has the greatest number of cancelled flights.\n",
    "(flights_df[flights_df.Cancelled==1])['UniqueCarrier'].value_counts()"
   ]
  },
  {
   "cell_type": "code",
   "execution_count": 5,
   "id": "26be26e9",
   "metadata": {},
   "outputs": [],
   "source": [
    "# ignore: ruined the dataframe at first, so recreating it\n",
    "dtype = {'DayOfWeek': np.uint8, 'DayofMonth': np.uint8, 'Month': np.uint8,\n",
    "         'Cancelled': np.uint8, 'Year': np.uint16, 'FlightNum': np.uint16 ,\n",
    "         'Distance': np.uint16, 'UniqueCarrier': str, 'CancellationCode': str,\n",
    "         'Origin': str, 'Dest': str, 'ArrDelay': np.float16,\n",
    "         'DepDelay': np.float16, 'CarrierDelay': np.float16,\n",
    "         'WeatherDelay': np.float16, 'NASDelay': np.float16,\n",
    "         'SecurityDelay':np.float16, 'LateAircraftDelay': np.float16,\n",
    "         'DepTime': np.float16}"
   ]
  },
  {
   "cell_type": "code",
   "execution_count": 271,
   "id": "ad303007",
   "metadata": {},
   "outputs": [
    {
     "name": "stdout",
     "output_type": "stream",
     "text": [
      "Wall time: 3.31 s\n"
     ]
    }
   ],
   "source": [
    "%%time\n",
    "# Specifying path\n",
    "path = \"C:/Users/MIC/OneDrive - UGent/Desktop/Data Engineering/Altschool/Ope_classes/Python Class -20230308T154637Z-001/Python Class/Python Capstone 1/Project 2 (Assignment)/2008.csv\"\n",
    "flights_df = pd.read_csv(path, usecols=dtype.keys(), dtype=dtype)"
   ]
  },
  {
   "cell_type": "code",
   "execution_count": 292,
   "id": "78a1a7d9",
   "metadata": {},
   "outputs": [
    {
     "data": {
      "text/html": [
       "<div>\n",
       "<style scoped>\n",
       "    .dataframe tbody tr th:only-of-type {\n",
       "        vertical-align: middle;\n",
       "    }\n",
       "\n",
       "    .dataframe tbody tr th {\n",
       "        vertical-align: top;\n",
       "    }\n",
       "\n",
       "    .dataframe thead th {\n",
       "        text-align: right;\n",
       "    }\n",
       "</style>\n",
       "<table border=\"1\" class=\"dataframe\">\n",
       "  <thead>\n",
       "    <tr style=\"text-align: right;\">\n",
       "      <th></th>\n",
       "      <th>Year</th>\n",
       "      <th>Month</th>\n",
       "      <th>DayofMonth</th>\n",
       "      <th>DayOfWeek</th>\n",
       "      <th>DepTime</th>\n",
       "      <th>UniqueCarrier</th>\n",
       "      <th>FlightNum</th>\n",
       "      <th>ArrDelay</th>\n",
       "      <th>DepDelay</th>\n",
       "      <th>Origin</th>\n",
       "      <th>Dest</th>\n",
       "      <th>Distance</th>\n",
       "      <th>Cancelled</th>\n",
       "      <th>CancellationCode</th>\n",
       "      <th>CarrierDelay</th>\n",
       "      <th>WeatherDelay</th>\n",
       "      <th>NASDelay</th>\n",
       "      <th>SecurityDelay</th>\n",
       "      <th>LateAircraftDelay</th>\n",
       "    </tr>\n",
       "  </thead>\n",
       "  <tbody>\n",
       "    <tr>\n",
       "      <th>0</th>\n",
       "      <td>2008</td>\n",
       "      <td>1</td>\n",
       "      <td>3</td>\n",
       "      <td>4</td>\n",
       "      <td>1343</td>\n",
       "      <td>WN</td>\n",
       "      <td>588</td>\n",
       "      <td>16.0</td>\n",
       "      <td>18.0</td>\n",
       "      <td>HOU</td>\n",
       "      <td>LIT</td>\n",
       "      <td>393</td>\n",
       "      <td>0</td>\n",
       "      <td>NaN</td>\n",
       "      <td>16.0</td>\n",
       "      <td>0.0</td>\n",
       "      <td>0.0</td>\n",
       "      <td>0.0</td>\n",
       "      <td>0.0</td>\n",
       "    </tr>\n",
       "    <tr>\n",
       "      <th>1</th>\n",
       "      <td>2008</td>\n",
       "      <td>1</td>\n",
       "      <td>3</td>\n",
       "      <td>4</td>\n",
       "      <td>1125</td>\n",
       "      <td>WN</td>\n",
       "      <td>1343</td>\n",
       "      <td>2.0</td>\n",
       "      <td>5.0</td>\n",
       "      <td>HOU</td>\n",
       "      <td>MAF</td>\n",
       "      <td>441</td>\n",
       "      <td>0</td>\n",
       "      <td>NaN</td>\n",
       "      <td>NaN</td>\n",
       "      <td>NaN</td>\n",
       "      <td>NaN</td>\n",
       "      <td>NaN</td>\n",
       "      <td>NaN</td>\n",
       "    </tr>\n",
       "    <tr>\n",
       "      <th>2</th>\n",
       "      <td>2008</td>\n",
       "      <td>1</td>\n",
       "      <td>3</td>\n",
       "      <td>4</td>\n",
       "      <td>2009</td>\n",
       "      <td>WN</td>\n",
       "      <td>3841</td>\n",
       "      <td>-4.0</td>\n",
       "      <td>-6.0</td>\n",
       "      <td>HOU</td>\n",
       "      <td>MAF</td>\n",
       "      <td>441</td>\n",
       "      <td>0</td>\n",
       "      <td>NaN</td>\n",
       "      <td>NaN</td>\n",
       "      <td>NaN</td>\n",
       "      <td>NaN</td>\n",
       "      <td>NaN</td>\n",
       "      <td>NaN</td>\n",
       "    </tr>\n",
       "    <tr>\n",
       "      <th>3</th>\n",
       "      <td>2008</td>\n",
       "      <td>1</td>\n",
       "      <td>3</td>\n",
       "      <td>4</td>\n",
       "      <td>903</td>\n",
       "      <td>WN</td>\n",
       "      <td>3</td>\n",
       "      <td>-2.0</td>\n",
       "      <td>8.0</td>\n",
       "      <td>HOU</td>\n",
       "      <td>MCO</td>\n",
       "      <td>848</td>\n",
       "      <td>0</td>\n",
       "      <td>NaN</td>\n",
       "      <td>NaN</td>\n",
       "      <td>NaN</td>\n",
       "      <td>NaN</td>\n",
       "      <td>NaN</td>\n",
       "      <td>NaN</td>\n",
       "    </tr>\n",
       "    <tr>\n",
       "      <th>4</th>\n",
       "      <td>2008</td>\n",
       "      <td>1</td>\n",
       "      <td>3</td>\n",
       "      <td>4</td>\n",
       "      <td>1423</td>\n",
       "      <td>WN</td>\n",
       "      <td>25</td>\n",
       "      <td>16.0</td>\n",
       "      <td>23.0</td>\n",
       "      <td>HOU</td>\n",
       "      <td>MCO</td>\n",
       "      <td>848</td>\n",
       "      <td>0</td>\n",
       "      <td>NaN</td>\n",
       "      <td>16.0</td>\n",
       "      <td>0.0</td>\n",
       "      <td>0.0</td>\n",
       "      <td>0.0</td>\n",
       "      <td>0.0</td>\n",
       "    </tr>\n",
       "  </tbody>\n",
       "</table>\n",
       "</div>"
      ],
      "text/plain": [
       "   Year  Month  DayofMonth  DayOfWeek DepTime UniqueCarrier  FlightNum  \\\n",
       "0  2008      1           3          4    1343            WN        588   \n",
       "1  2008      1           3          4    1125            WN       1343   \n",
       "2  2008      1           3          4    2009            WN       3841   \n",
       "3  2008      1           3          4     903            WN          3   \n",
       "4  2008      1           3          4    1423            WN         25   \n",
       "\n",
       "   ArrDelay  DepDelay Origin Dest  Distance  Cancelled CancellationCode  \\\n",
       "0      16.0      18.0    HOU  LIT       393          0              NaN   \n",
       "1       2.0       5.0    HOU  MAF       441          0              NaN   \n",
       "2      -4.0      -6.0    HOU  MAF       441          0              NaN   \n",
       "3      -2.0       8.0    HOU  MCO       848          0              NaN   \n",
       "4      16.0      23.0    HOU  MCO       848          0              NaN   \n",
       "\n",
       "   CarrierDelay  WeatherDelay  NASDelay  SecurityDelay  LateAircraftDelay  \n",
       "0          16.0           0.0       0.0            0.0                0.0  \n",
       "1           NaN           NaN       NaN            NaN                NaN  \n",
       "2           NaN           NaN       NaN            NaN                NaN  \n",
       "3           NaN           NaN       NaN            NaN                NaN  \n",
       "4          16.0           0.0       0.0            0.0                0.0  "
      ]
     },
     "execution_count": 292,
     "metadata": {},
     "output_type": "execute_result"
    }
   ],
   "source": [
    "flights_df.head()\n"
   ]
  },
  {
   "cell_type": "code",
   "execution_count": 6,
   "id": "92b85a43",
   "metadata": {},
   "outputs": [
    {
     "data": {
      "text/plain": [
       "count    2324775.0\n",
       "mean           NaN\n",
       "std            NaN\n",
       "min            1.0\n",
       "25%          930.0\n",
       "50%         1330.0\n",
       "75%         1733.0\n",
       "max         2400.0\n",
       "Name: DepTime, dtype: float64"
      ]
     },
     "execution_count": 6,
     "metadata": {},
     "output_type": "execute_result"
    }
   ],
   "source": [
    "flights_df['DepTime'].describe()"
   ]
  },
  {
   "cell_type": "code",
   "execution_count": 7,
   "id": "f5a2bb83",
   "metadata": {},
   "outputs": [],
   "source": [
    "flights_df['DepTime'].replace(2400, 0, inplace=True)"
   ]
  },
  {
   "cell_type": "code",
   "execution_count": 8,
   "id": "4c8bd8d8",
   "metadata": {},
   "outputs": [
    {
     "data": {
      "text/plain": [
       "102463     0.0\n",
       "102486     0.0\n",
       "131044     0.0\n",
       "132521     0.0\n",
       "136862     0.0\n",
       "          ... \n",
       "2328252    0.0\n",
       "2334357    0.0\n",
       "2336093    0.0\n",
       "2341328    0.0\n",
       "2374262    0.0\n",
       "Name: DepTime, Length: 209, dtype: float16"
      ]
     },
     "execution_count": 8,
     "metadata": {},
     "output_type": "execute_result"
    }
   ],
   "source": [
    "flights_df[flights_df['DepTime']==0]['DepTime']"
   ]
  },
  {
   "cell_type": "code",
   "execution_count": 9,
   "id": "42d24531",
   "metadata": {},
   "outputs": [],
   "source": [
    "#trying to remove '.' from the \"DepTime\" values so i can convert them to String and the datetime format\n",
    "flights_df['DepTime'].fillna(0, inplace= True)\n",
    "flights_df['DepTime']=flights_df['DepTime'].astype(int)\n",
    "flights_df['DepTime']=flights_df['DepTime'].astype(str)"
   ]
  },
  {
   "cell_type": "code",
   "execution_count": null,
   "id": "a73fceae",
   "metadata": {},
   "outputs": [],
   "source": []
  },
  {
   "cell_type": "code",
   "execution_count": 11,
   "id": "54a8e28a",
   "metadata": {},
   "outputs": [],
   "source": [
    "# coverting to datetime format\n",
    "from datetime import datetime, date, time, timedelta\n",
    "flights_df['DepTime']=flights_df['DepTime'].map(lambda x: datetime.strptime(x.zfill(4), \"%H%M%S\").time())"
   ]
  },
  {
   "cell_type": "code",
   "execution_count": 13,
   "id": "0497a113",
   "metadata": {
    "scrolled": true
   },
   "outputs": [
    {
     "data": {
      "text/html": [
       "<div>\n",
       "<style scoped>\n",
       "    .dataframe tbody tr th:only-of-type {\n",
       "        vertical-align: middle;\n",
       "    }\n",
       "\n",
       "    .dataframe tbody tr th {\n",
       "        vertical-align: top;\n",
       "    }\n",
       "\n",
       "    .dataframe thead th {\n",
       "        text-align: right;\n",
       "    }\n",
       "</style>\n",
       "<table border=\"1\" class=\"dataframe\">\n",
       "  <thead>\n",
       "    <tr style=\"text-align: right;\">\n",
       "      <th></th>\n",
       "      <th>Year</th>\n",
       "      <th>Month</th>\n",
       "      <th>DayofMonth</th>\n",
       "      <th>DayOfWeek</th>\n",
       "      <th>DepTime</th>\n",
       "      <th>UniqueCarrier</th>\n",
       "      <th>FlightNum</th>\n",
       "      <th>ArrDelay</th>\n",
       "      <th>DepDelay</th>\n",
       "      <th>Origin</th>\n",
       "      <th>Dest</th>\n",
       "      <th>Distance</th>\n",
       "      <th>Cancelled</th>\n",
       "      <th>CancellationCode</th>\n",
       "      <th>CarrierDelay</th>\n",
       "      <th>WeatherDelay</th>\n",
       "      <th>NASDelay</th>\n",
       "      <th>SecurityDelay</th>\n",
       "      <th>LateAircraftDelay</th>\n",
       "    </tr>\n",
       "  </thead>\n",
       "  <tbody>\n",
       "    <tr>\n",
       "      <th>0</th>\n",
       "      <td>2008</td>\n",
       "      <td>1</td>\n",
       "      <td>3</td>\n",
       "      <td>4</td>\n",
       "      <td>13</td>\n",
       "      <td>WN</td>\n",
       "      <td>588</td>\n",
       "      <td>16.0</td>\n",
       "      <td>18.0</td>\n",
       "      <td>HOU</td>\n",
       "      <td>LIT</td>\n",
       "      <td>393</td>\n",
       "      <td>0</td>\n",
       "      <td>NaN</td>\n",
       "      <td>16.0</td>\n",
       "      <td>0.0</td>\n",
       "      <td>0.0</td>\n",
       "      <td>0.0</td>\n",
       "      <td>0.0</td>\n",
       "    </tr>\n",
       "    <tr>\n",
       "      <th>1</th>\n",
       "      <td>2008</td>\n",
       "      <td>1</td>\n",
       "      <td>3</td>\n",
       "      <td>4</td>\n",
       "      <td>11</td>\n",
       "      <td>WN</td>\n",
       "      <td>1343</td>\n",
       "      <td>2.0</td>\n",
       "      <td>5.0</td>\n",
       "      <td>HOU</td>\n",
       "      <td>MAF</td>\n",
       "      <td>441</td>\n",
       "      <td>0</td>\n",
       "      <td>NaN</td>\n",
       "      <td>NaN</td>\n",
       "      <td>NaN</td>\n",
       "      <td>NaN</td>\n",
       "      <td>NaN</td>\n",
       "      <td>NaN</td>\n",
       "    </tr>\n",
       "    <tr>\n",
       "      <th>2</th>\n",
       "      <td>2008</td>\n",
       "      <td>1</td>\n",
       "      <td>3</td>\n",
       "      <td>4</td>\n",
       "      <td>20</td>\n",
       "      <td>WN</td>\n",
       "      <td>3841</td>\n",
       "      <td>-4.0</td>\n",
       "      <td>-6.0</td>\n",
       "      <td>HOU</td>\n",
       "      <td>MAF</td>\n",
       "      <td>441</td>\n",
       "      <td>0</td>\n",
       "      <td>NaN</td>\n",
       "      <td>NaN</td>\n",
       "      <td>NaN</td>\n",
       "      <td>NaN</td>\n",
       "      <td>NaN</td>\n",
       "      <td>NaN</td>\n",
       "    </tr>\n",
       "    <tr>\n",
       "      <th>3</th>\n",
       "      <td>2008</td>\n",
       "      <td>1</td>\n",
       "      <td>3</td>\n",
       "      <td>4</td>\n",
       "      <td>9</td>\n",
       "      <td>WN</td>\n",
       "      <td>3</td>\n",
       "      <td>-2.0</td>\n",
       "      <td>8.0</td>\n",
       "      <td>HOU</td>\n",
       "      <td>MCO</td>\n",
       "      <td>848</td>\n",
       "      <td>0</td>\n",
       "      <td>NaN</td>\n",
       "      <td>NaN</td>\n",
       "      <td>NaN</td>\n",
       "      <td>NaN</td>\n",
       "      <td>NaN</td>\n",
       "      <td>NaN</td>\n",
       "    </tr>\n",
       "    <tr>\n",
       "      <th>4</th>\n",
       "      <td>2008</td>\n",
       "      <td>1</td>\n",
       "      <td>3</td>\n",
       "      <td>4</td>\n",
       "      <td>14</td>\n",
       "      <td>WN</td>\n",
       "      <td>25</td>\n",
       "      <td>16.0</td>\n",
       "      <td>23.0</td>\n",
       "      <td>HOU</td>\n",
       "      <td>MCO</td>\n",
       "      <td>848</td>\n",
       "      <td>0</td>\n",
       "      <td>NaN</td>\n",
       "      <td>16.0</td>\n",
       "      <td>0.0</td>\n",
       "      <td>0.0</td>\n",
       "      <td>0.0</td>\n",
       "      <td>0.0</td>\n",
       "    </tr>\n",
       "  </tbody>\n",
       "</table>\n",
       "</div>"
      ],
      "text/plain": [
       "   Year  Month  DayofMonth  DayOfWeek  DepTime UniqueCarrier  FlightNum  \\\n",
       "0  2008      1           3          4       13            WN        588   \n",
       "1  2008      1           3          4       11            WN       1343   \n",
       "2  2008      1           3          4       20            WN       3841   \n",
       "3  2008      1           3          4        9            WN          3   \n",
       "4  2008      1           3          4       14            WN         25   \n",
       "\n",
       "   ArrDelay  DepDelay Origin Dest  Distance  Cancelled CancellationCode  \\\n",
       "0      16.0      18.0    HOU  LIT       393          0              NaN   \n",
       "1       2.0       5.0    HOU  MAF       441          0              NaN   \n",
       "2      -4.0      -6.0    HOU  MAF       441          0              NaN   \n",
       "3      -2.0       8.0    HOU  MCO       848          0              NaN   \n",
       "4      16.0      23.0    HOU  MCO       848          0              NaN   \n",
       "\n",
       "   CarrierDelay  WeatherDelay  NASDelay  SecurityDelay  LateAircraftDelay  \n",
       "0          16.0           0.0       0.0            0.0                0.0  \n",
       "1           NaN           NaN       NaN            NaN                NaN  \n",
       "2           NaN           NaN       NaN            NaN                NaN  \n",
       "3           NaN           NaN       NaN            NaN                NaN  \n",
       "4          16.0           0.0       0.0            0.0                0.0  "
      ]
     },
     "execution_count": 13,
     "metadata": {},
     "output_type": "execute_result"
    }
   ],
   "source": [
    "flights_df['DepTime'] = pd.to_datetime(flights_df['DepTime'], format='%H:%M:%S').dt.hour\n",
    "flights_df.head()"
   ]
  },
  {
   "cell_type": "code",
   "execution_count": 15,
   "id": "96e9b27d",
   "metadata": {},
   "outputs": [
    {
     "data": {
      "text/plain": [
       "Text(0, 0.5, 'COunt')"
      ]
     },
     "execution_count": 15,
     "metadata": {},
     "output_type": "execute_result"
    },
    {
     "data": {
      "image/png": "[encoded data removed]",
      "text/plain": [
       "<Figure size 640x480 with 1 Axes>"
      ]
     },
     "metadata": {},
     "output_type": "display_data"
    }
   ],
   "source": [
    "# no.5 Histogram of Hours\n",
    "flights_df['hour'] = flights_df['DepTime']\n",
    "plt.hist(flights_df['DepTime'], edgecolor='black', bins=(np.arange(1,24,1)))\n",
    "plt.xlabel('DepTime')\n",
    "\n",
    "plt.ylabel('COunt')"
   ]
  },
  {
   "cell_type": "code",
   "execution_count": 327,
   "id": "fa8b3ffa",
   "metadata": {},
   "outputs": [
    {
     "data": {
      "text/plain": [
       "DepTime\n",
       "6     150593\n",
       "11    149688\n",
       "8     149022\n",
       "16    147702\n",
       "7     147575\n",
       "17    147496\n",
       "13    146839\n",
       "10    144128\n",
       "9     143866\n",
       "14    140860\n",
       "12    140542\n",
       "15    139343\n",
       "18    136556\n",
       "19    133961\n",
       "20     98407\n",
       "21     89153\n",
       "0      71684\n",
       "5      48577\n",
       "22     42051\n",
       "23     17200\n",
       "1       2047\n",
       "4       1099\n",
       "2        595\n",
       "3        233\n",
       "dtype: int64"
      ]
     },
     "execution_count": 327,
     "metadata": {},
     "output_type": "execute_result"
    }
   ],
   "source": [
    "# Verifying that graph above is indeed correct\n",
    "flights_df.groupby(flights_df['DepTime']).size().sort_values(ascending=False)"
   ]
  },
  {
   "cell_type": "code",
   "execution_count": 7,
   "id": "91407ea1",
   "metadata": {},
   "outputs": [],
   "source": [
    "# 6. OK, now let's examine cancelled flight distribution by time. Which hour has the least percentage of cancelled flights?\n",
    "# my code looks correct but doen't work so i intuited the answer from plot in 5 above\n",
    "\n",
    "# total_flights= flights_df.groupby('DepTime').size()\n",
    "\n",
    "# number of cancelled flights for each hour\n",
    "# cancelled_flights = flights_df[flights_df['Cancelled']==1].groupby('DepTime').size()\n",
    "# hour_least_cancelled = cancelled_flights.idxmin()"
   ]
  },
  {
   "cell_type": "code",
   "execution_count": null,
   "id": "a394b75a",
   "metadata": {},
   "outputs": [],
   "source": []
  },
  {
   "cell_type": "code",
   "execution_count": 31,
   "id": "2ae28b8c",
   "metadata": {},
   "outputs": [
    {
     "data": {
      "text/plain": [
       "[3]"
      ]
     },
     "execution_count": 31,
     "metadata": {},
     "output_type": "execute_result"
    }
   ],
   "source": [
    "# 7. Is there any hour that didn't have any cancelled flights at all? Check all that apply.\n",
    "flights_df = flights_df[flights_df['Cancelled']==0]\n",
    "hourly_flights = flights_df.groupby('DepTime').size()\n",
    "no_cancelled_flights = hourly_flights[hourly_flights ==hourly_flights.min()].index.tolist()\n",
    "no_cancelled_flights"
   ]
  },
  {
   "cell_type": "code",
   "execution_count": 34,
   "id": "1b94a0dc",
   "metadata": {},
   "outputs": [
    {
     "data": {
      "text/plain": [
       "6"
      ]
     },
     "execution_count": 34,
     "metadata": {},
     "output_type": "execute_result"
    }
   ],
   "source": [
    "# 8. Find the busiest hour, or in other words, the hour when the number of departed flights reaches its maximum.\n",
    "departures_by_hour = flights_df.groupby('DepTime').size()\n",
    "busiest_hour = departures_by_hour.idxmax()\n",
    "busiest_hour"
   ]
  },
  {
   "cell_type": "code",
   "execution_count": 36,
   "id": "b07adbd9",
   "metadata": {},
   "outputs": [
    {
     "name": "stdout",
     "output_type": "stream",
     "text": [
      "[5, 6]\n"
     ]
    }
   ],
   "source": [
    "# 9. Since we know the departure hour, it might be interesting to examine the average delay for corresponding hour. \n",
    "# Are there any cases, when the planes on average departed earlier than they should have done? And if yes, at what departure hours did it happen?\n",
    "# Hint: Consider only completed flights.\n",
    "\n",
    "# filtering out cancelled flights\n",
    "flights_df=flights_df[flights_df['Cancelled']==0]\n",
    "# Grouping data \"DepDelay\" and find the mean\n",
    "avg_delay= flights_df.groupby('DepTime')['DepDelay'].mean()\n",
    "\n",
    "# Checking if any negative average departure delays exist:\n",
    "if (avg_delay <0).any():\n",
    "    early_departure= avg_delay[avg_delay<0].index.tolist()\n",
    "    \n",
    "    print(early_departure)\n",
    "else:\n",
    "    print('Planes did not depart earlier than expected')\n"
   ]
  },
  {
   "cell_type": "code",
   "execution_count": 43,
   "id": "997a9566",
   "metadata": {
    "collapsed": true
   },
   "outputs": [
    {
     "ename": "ValueError",
     "evalue": "attempt to get argmax of an empty sequence",
     "output_type": "error",
     "traceback": [
      "\u001b[1;31m---------------------------------------------------------------------------\u001b[0m",
      "\u001b[1;31mValueError\u001b[0m                                Traceback (most recent call last)",
      "\u001b[1;32m~\\AppData\\Local\\Temp\\ipykernel_16508\\1780945986.py\u001b[0m in \u001b[0;36m<module>\u001b[1;34m\u001b[0m\n\u001b[0;32m      8\u001b[0m \u001b[0mhourly_departure\u001b[0m\u001b[1;33m=\u001b[0m\u001b[0mmsp_flights\u001b[0m\u001b[1;33m[\u001b[0m\u001b[1;34m'DepTime'\u001b[0m\u001b[1;33m]\u001b[0m\u001b[1;33m.\u001b[0m\u001b[0mapply\u001b[0m\u001b[1;33m(\u001b[0m\u001b[1;32mlambda\u001b[0m \u001b[0mx\u001b[0m\u001b[1;33m:\u001b[0m \u001b[0mstr\u001b[0m\u001b[1;33m(\u001b[0m\u001b[0mint\u001b[0m\u001b[1;33m(\u001b[0m\u001b[0mx\u001b[0m\u001b[1;33m)\u001b[0m\u001b[1;33m.\u001b[0m\u001b[0mzfill\u001b[0m\u001b[1;33m(\u001b[0m\u001b[1;36m4\u001b[0m\u001b[1;33m)\u001b[0m\u001b[1;33m[\u001b[0m\u001b[1;33m:\u001b[0m\u001b[1;36m2\u001b[0m\u001b[1;33m]\u001b[0m\u001b[1;33m)\u001b[0m\u001b[1;33m.\u001b[0m\u001b[0mvalue_counts\u001b[0m\u001b[1;33m(\u001b[0m\u001b[1;33m)\u001b[0m\u001b[1;33m)\u001b[0m\u001b[1;33m\u001b[0m\u001b[1;33m\u001b[0m\u001b[0m\n\u001b[0;32m      9\u001b[0m \u001b[1;31m# grouping by DepTime and counting\u001b[0m\u001b[1;33m\u001b[0m\u001b[1;33m\u001b[0m\u001b[0m\n\u001b[1;32m---> 10\u001b[1;33m \u001b[0mmsp_departure_max\u001b[0m \u001b[1;33m=\u001b[0m \u001b[0mhourly_departure\u001b[0m\u001b[1;33m.\u001b[0m\u001b[0midxmax\u001b[0m\u001b[1;33m(\u001b[0m\u001b[1;33m)\u001b[0m\u001b[1;33m\u001b[0m\u001b[1;33m\u001b[0m\u001b[0m\n\u001b[0m\u001b[0;32m     11\u001b[0m \u001b[0mmsp_departure_max\u001b[0m\u001b[1;33m\u001b[0m\u001b[1;33m\u001b[0m\u001b[0m\n\u001b[0;32m     12\u001b[0m \u001b[1;33m\u001b[0m\u001b[0m\n",
      "\u001b[1;32m~\\anaconda3\\lib\\site-packages\\pandas\\core\\series.py\u001b[0m in \u001b[0;36midxmax\u001b[1;34m(self, axis, skipna, *args, **kwargs)\u001b[0m\n\u001b[0;32m   2402\u001b[0m         \u001b[0mnan\u001b[0m\u001b[1;33m\u001b[0m\u001b[1;33m\u001b[0m\u001b[0m\n\u001b[0;32m   2403\u001b[0m         \"\"\"\n\u001b[1;32m-> 2404\u001b[1;33m         \u001b[0mi\u001b[0m \u001b[1;33m=\u001b[0m \u001b[0mself\u001b[0m\u001b[1;33m.\u001b[0m\u001b[0margmax\u001b[0m\u001b[1;33m(\u001b[0m\u001b[0maxis\u001b[0m\u001b[1;33m,\u001b[0m \u001b[0mskipna\u001b[0m\u001b[1;33m,\u001b[0m \u001b[1;33m*\u001b[0m\u001b[0margs\u001b[0m\u001b[1;33m,\u001b[0m \u001b[1;33m**\u001b[0m\u001b[0mkwargs\u001b[0m\u001b[1;33m)\u001b[0m\u001b[1;33m\u001b[0m\u001b[1;33m\u001b[0m\u001b[0m\n\u001b[0m\u001b[0;32m   2405\u001b[0m         \u001b[1;32mif\u001b[0m \u001b[0mi\u001b[0m \u001b[1;33m==\u001b[0m \u001b[1;33m-\u001b[0m\u001b[1;36m1\u001b[0m\u001b[1;33m:\u001b[0m\u001b[1;33m\u001b[0m\u001b[1;33m\u001b[0m\u001b[0m\n\u001b[0;32m   2406\u001b[0m             \u001b[1;32mreturn\u001b[0m \u001b[0mnp\u001b[0m\u001b[1;33m.\u001b[0m\u001b[0mnan\u001b[0m\u001b[1;33m\u001b[0m\u001b[1;33m\u001b[0m\u001b[0m\n",
      "\u001b[1;32m~\\anaconda3\\lib\\site-packages\\pandas\\core\\base.py\u001b[0m in \u001b[0;36margmax\u001b[1;34m(self, axis, skipna, *args, **kwargs)\u001b[0m\n\u001b[0;32m    655\u001b[0m             \u001b[1;31m# error: Incompatible return value type (got \"Union[int, ndarray]\", expected\u001b[0m\u001b[1;33m\u001b[0m\u001b[1;33m\u001b[0m\u001b[0m\n\u001b[0;32m    656\u001b[0m             \u001b[1;31m# \"int\")\u001b[0m\u001b[1;33m\u001b[0m\u001b[1;33m\u001b[0m\u001b[0m\n\u001b[1;32m--> 657\u001b[1;33m             return nanops.nanargmax(  # type: ignore[return-value]\n\u001b[0m\u001b[0;32m    658\u001b[0m                 \u001b[0mdelegate\u001b[0m\u001b[1;33m,\u001b[0m \u001b[0mskipna\u001b[0m\u001b[1;33m=\u001b[0m\u001b[0mskipna\u001b[0m\u001b[1;33m\u001b[0m\u001b[1;33m\u001b[0m\u001b[0m\n\u001b[0;32m    659\u001b[0m             )\n",
      "\u001b[1;32m~\\anaconda3\\lib\\site-packages\\pandas\\core\\nanops.py\u001b[0m in \u001b[0;36m_f\u001b[1;34m(*args, **kwargs)\u001b[0m\n\u001b[0;32m     91\u001b[0m             \u001b[1;32mtry\u001b[0m\u001b[1;33m:\u001b[0m\u001b[1;33m\u001b[0m\u001b[1;33m\u001b[0m\u001b[0m\n\u001b[0;32m     92\u001b[0m                 \u001b[1;32mwith\u001b[0m \u001b[0mnp\u001b[0m\u001b[1;33m.\u001b[0m\u001b[0merrstate\u001b[0m\u001b[1;33m(\u001b[0m\u001b[0minvalid\u001b[0m\u001b[1;33m=\u001b[0m\u001b[1;34m\"ignore\"\u001b[0m\u001b[1;33m)\u001b[0m\u001b[1;33m:\u001b[0m\u001b[1;33m\u001b[0m\u001b[1;33m\u001b[0m\u001b[0m\n\u001b[1;32m---> 93\u001b[1;33m                     \u001b[1;32mreturn\u001b[0m \u001b[0mf\u001b[0m\u001b[1;33m(\u001b[0m\u001b[1;33m*\u001b[0m\u001b[0margs\u001b[0m\u001b[1;33m,\u001b[0m \u001b[1;33m**\u001b[0m\u001b[0mkwargs\u001b[0m\u001b[1;33m)\u001b[0m\u001b[1;33m\u001b[0m\u001b[1;33m\u001b[0m\u001b[0m\n\u001b[0m\u001b[0;32m     94\u001b[0m             \u001b[1;32mexcept\u001b[0m \u001b[0mValueError\u001b[0m \u001b[1;32mas\u001b[0m \u001b[0me\u001b[0m\u001b[1;33m:\u001b[0m\u001b[1;33m\u001b[0m\u001b[1;33m\u001b[0m\u001b[0m\n\u001b[0;32m     95\u001b[0m                 \u001b[1;31m# we want to transform an object array\u001b[0m\u001b[1;33m\u001b[0m\u001b[1;33m\u001b[0m\u001b[0m\n",
      "\u001b[1;32m~\\anaconda3\\lib\\site-packages\\pandas\\core\\nanops.py\u001b[0m in \u001b[0;36mnanargmax\u001b[1;34m(values, axis, skipna, mask)\u001b[0m\n\u001b[0;32m   1094\u001b[0m     \u001b[0mvalues\u001b[0m\u001b[1;33m,\u001b[0m \u001b[0mmask\u001b[0m\u001b[1;33m,\u001b[0m \u001b[0m_\u001b[0m\u001b[1;33m,\u001b[0m \u001b[0m_\u001b[0m\u001b[1;33m,\u001b[0m \u001b[0m_\u001b[0m \u001b[1;33m=\u001b[0m \u001b[0m_get_values\u001b[0m\u001b[1;33m(\u001b[0m\u001b[0mvalues\u001b[0m\u001b[1;33m,\u001b[0m \u001b[1;32mTrue\u001b[0m\u001b[1;33m,\u001b[0m \u001b[0mfill_value_typ\u001b[0m\u001b[1;33m=\u001b[0m\u001b[1;34m\"-inf\"\u001b[0m\u001b[1;33m,\u001b[0m \u001b[0mmask\u001b[0m\u001b[1;33m=\u001b[0m\u001b[0mmask\u001b[0m\u001b[1;33m)\u001b[0m\u001b[1;33m\u001b[0m\u001b[1;33m\u001b[0m\u001b[0m\n\u001b[0;32m   1095\u001b[0m     \u001b[1;31m# error: Need type annotation for 'result'\u001b[0m\u001b[1;33m\u001b[0m\u001b[1;33m\u001b[0m\u001b[0m\n\u001b[1;32m-> 1096\u001b[1;33m     \u001b[0mresult\u001b[0m \u001b[1;33m=\u001b[0m \u001b[0mvalues\u001b[0m\u001b[1;33m.\u001b[0m\u001b[0margmax\u001b[0m\u001b[1;33m(\u001b[0m\u001b[0maxis\u001b[0m\u001b[1;33m)\u001b[0m  \u001b[1;31m# type: ignore[var-annotated]\u001b[0m\u001b[1;33m\u001b[0m\u001b[1;33m\u001b[0m\u001b[0m\n\u001b[0m\u001b[0;32m   1097\u001b[0m     \u001b[0mresult\u001b[0m \u001b[1;33m=\u001b[0m \u001b[0m_maybe_arg_null_out\u001b[0m\u001b[1;33m(\u001b[0m\u001b[0mresult\u001b[0m\u001b[1;33m,\u001b[0m \u001b[0maxis\u001b[0m\u001b[1;33m,\u001b[0m \u001b[0mmask\u001b[0m\u001b[1;33m,\u001b[0m \u001b[0mskipna\u001b[0m\u001b[1;33m)\u001b[0m\u001b[1;33m\u001b[0m\u001b[1;33m\u001b[0m\u001b[0m\n\u001b[0;32m   1098\u001b[0m     \u001b[1;32mreturn\u001b[0m \u001b[0mresult\u001b[0m\u001b[1;33m\u001b[0m\u001b[1;33m\u001b[0m\u001b[0m\n",
      "\u001b[1;31mValueError\u001b[0m: attempt to get argmax of an empty sequence"
     ]
    }
   ],
   "source": [
    "# 10. Considering only the completed flights by the carrier, that you have found in Question 3, find the distribution of these flights by hour. \n",
    "# At what time does the greatest number of its planes depart?\n",
    "\n",
    "# Filtering the data by carrier name MSP\n",
    "msp_flights = flights_df.loc[(flights_df['UniqueCarrier']=='MSP') & (flights_df['Cancelled']==0)]\n",
    "\n",
    "# passing the time into msp_flights\n",
    "hourly_departure=msp_flights['DepTime'].apply(lambda x: str(int(x).zfill(4)[:2]).value_counts())\n",
    "# grouping by DepTime and counting\n",
    "msp_departure_max = hourly_departure.idxmax()\n",
    "msp_departure_max\n",
    "\n",
    "\n"
   ]
  },
  {
   "cell_type": "code",
   "execution_count": 47,
   "id": "b7392028",
   "metadata": {},
   "outputs": [
    {
     "data": {
      "text/plain": [
       "WN    394586\n",
       "AA    193735\n",
       "OO    188411\n",
       "MQ    158900\n",
       "US    151149\n",
       "UA    149420\n",
       "DL    148358\n",
       "XE    134832\n",
       "NW    121392\n",
       "CO    101618\n",
       "Name: UniqueCarrier, dtype: int64"
      ]
     },
     "execution_count": 47,
     "metadata": {},
     "output_type": "execute_result"
    }
   ],
   "source": [
    "# 11. Find top-10 carriers in terms of the number of completed flights\n",
    "#(UniqueCarrier column)?\n",
    "\n",
    "#Which of the listed below is not in your top-10 list?\n",
    "# filtering to retain completed flights\n",
    "completed_flights = flights_df[flights_df['Cancelled']==0]\n",
    "#using value-counts to count completed flights for each carrier\n",
    "carrier_counts= completed_flights['UniqueCarrier'].value_counts()\n",
    "\n",
    "# getting the top 10 carriers\n",
    "top_10_carriers = carrier_counts.head(10)\n",
    "top_10_carriers"
   ]
  },
  {
   "cell_type": "markdown",
   "id": "8b684dd2",
   "metadata": {},
   "source": [
    " #### 11. ANS EV"
   ]
  },
  {
   "cell_type": "code",
   "execution_count": 58,
   "id": "f775f825",
   "metadata": {},
   "outputs": [
    {
     "data": {
      "text/plain": [
       "Series([], Name: CancellationCode, dtype: int64)"
      ]
     },
     "execution_count": 58,
     "metadata": {},
     "output_type": "execute_result"
    }
   ],
   "source": [
    "# 12. Plot distributions of flight cancellation reasons (CancellationCode).\n",
    "#What is the most frequent reason for flight cancellation? (Use this link to translate codes into reasons)\n",
    "\n",
    "#filtering for only cancelled flights\n",
    "cancelled_flights = flights_df[flights_df['Cancelled']==1]\n",
    "\n",
    "#use value_counts to to count number of flights for each cancellation code\n",
    "cancellation_counts = cancelled_flights['CancellationCode'].value_counts()\n",
    "cancellation_counts\n",
    "\n",
    "\n",
    "# Creating the bar chart\n",
    "plt.hist(cancelled_flights['CancellationCode'], bins=range(6), align='left', rwidth=0.5)\n",
    "\n",
    "plt.xticks(range(5), cancellation_counts.index)\n",
    "\n",
    "plt.title('Distribution of Flight Cancellation Reasons')\n",
    "plt.xlabel('Cancellation Code')\n",
    "plt.ylabel('Number of Cancelled Flights')\n",
    "\n",
    "# show the chart\n",
    "plt.show()\n"
   ]
  },
  {
   "cell_type": "code",
   "execution_count": 69,
   "id": "132a19e9",
   "metadata": {},
   "outputs": [
    {
     "data": {
      "text/plain": [
       "LAX-SFO    8813\n",
       "Name: route, dtype: int64"
      ]
     },
     "execution_count": 69,
     "metadata": {},
     "output_type": "execute_result"
    }
   ],
   "source": [
    "# 13. Which route is the most frequent, in terms of the number of flights?\n",
    "\n",
    "# Creating a new column that combines the origin and dest airports\n",
    "flights_df['route1'] = flights_df['Origin']+ \"-\" +flights_df['Dest']\n",
    "\n",
    "# Creating a new column in the dataframe that reveres the order\n",
    "flights_df[\"route2\"] = flights_df[\"Dest\"]+ \"-\" +flights_df[\"Origin\"]\n",
    "\n",
    "# Concatinating the 2 columns into a single \"route\" column\n",
    "flights_df[\"route\"] = np.where(flights_df[\"route1\"] < flights_df[\"route2\"], flights_df[\"route1\"], flights_df[\"route2\"])\n",
    "\n",
    "# Count the number of occurences of each note                                                                                                              \n",
    "route_counts = flights_df[\"route\"].value_counts()\n",
    "                                                                                                              \n",
    "# Sort the result by the count in descending order\n",
    "most_frequent_route = route_counts.head(1) \n",
    "most_frequent_route"
   ]
  },
  {
   "cell_type": "code",
   "execution_count": 77,
   "id": "f1015090",
   "metadata": {},
   "outputs": [
    {
     "data": {
      "text/plain": [
       "ORD-DFW    219\n",
       "ORD-MSP    190\n",
       "DTW-LGA    179\n",
       "DTW-ORD    177\n",
       "ORD-CVG    162\n",
       "Name: Route, dtype: int64"
      ]
     },
     "execution_count": 77,
     "metadata": {},
     "output_type": "execute_result"
    }
   ],
   "source": [
    "# 14. Find top-5 delayed routes (count how many times they were delayed on departure). From all flights on these 5 routes, \n",
    "# count all flights with weather conditions contributing to a delay.\n",
    "\n",
    "#Filtering dataframe to contain only delayed flights\n",
    "delayed_flights = flights_df[(flights_df['DepDelay']>0)]\n",
    "\n",
    "# creating a routes column\n",
    "flights_df['Route'] = flights_df['Origin']+ \"-\"+flights_df['Dest']\n",
    "\n",
    "# group the data by the top-5 routes based on the number of flights and count the number of delayed flight on each route\n",
    "top_5_routes = delayed_flights['Route'].value_counts().head(5)\n",
    "top_5_routes\n",
    "\n",
    "# filter the data to only include flights delayed due to weather\n",
    "weather_delayed = delayed_flights[delayed_flights['WeatherDelay']>0]\n",
    "\n",
    "# Group the data by the top-5 routes based on the number of flights and count the number delayed flights due to weather condition for each route.\n",
    "top_5_weather_delayed_routes = weather_delayed['Route'].value_counts().head(5)\n",
    "\n",
    "top_5_weather_delayed_routes "
   ]
  },
  {
   "cell_type": "code",
   "execution_count": 79,
   "id": "36028521",
   "metadata": {},
   "outputs": [
    {
     "name": "stdout",
     "output_type": "stream",
     "text": [
      "Normality test p-value:  0.0\n",
      "Uniformity test parameters  (0.0, 23.0)\n"
     ]
    }
   ],
   "source": [
    "# 15. Examine the hourly distribution of departure times. \n",
    "# For that, create a new series from DepTime, removing missing values.\n",
    "\n",
    "# importing sciPY\n",
    "from scipy.stats import normaltest, uniform\n",
    "# creating a new series from the DepTime column, removing missing values\n",
    "dep_times = flights_df['DepTime'].dropna()\n",
    "\n",
    "# test for normality using the D'Agostino-Pearson normality test\n",
    "normality_test = normaltest(dep_times)\n",
    "\n",
    "# test for uniformity using the kolmogorov_smirnov uniformity test\n",
    "uniformity_test = uniform.fit(dep_times)\n",
    "\n",
    "print (\"Normality test p-value: \", normality_test[1])\n",
    "print (\"Uniformity test parameters \", uniformity_test)"
   ]
  },
  {
   "cell_type": "code",
   "execution_count": 84,
   "id": "2d6a2250",
   "metadata": {},
   "outputs": [
    {
     "data": {
      "image/png": "[encoded data removed]",
      "text/plain": [
       "<Figure size 640x480 with 1 Axes>"
      ]
     },
     "metadata": {},
     "output_type": "display_data"
    }
   ],
   "source": [
    "plt.hist(flights_df['DepTime'], edgecolor='black', bins=24)\n",
    "plt.xlabel('Hour of Departure')\n",
    "plt.ylabel('Number of Flights')\n",
    "plt.title('Hour Distribution of Departure Times')\n",
    "plt.show()\n"
   ]
  },
  {
   "cell_type": "code",
   "execution_count": null,
   "id": "0fd70826",
   "metadata": {},
   "outputs": [],
   "source": [
    "# 16. Show how the number of flights changes through time \n",
    "# (on the daily/weekly/monthly basis) and interpret the findings.\n"
   ]
  },
  {
   "cell_type": "code",
   "execution_count": 8,
   "id": "a7f5b119",
   "metadata": {},
   "outputs": [
    {
     "data": {
      "image/png": "[encoded data removed]",
      "text/plain": [
       "<Figure size 1000x600 with 1 Axes>"
      ]
     },
     "metadata": {},
     "output_type": "display_data"
    }
   ],
   "source": [
    "# 17. Examine the distribution of cancellation reasons with time. Make a bar plot of cancellation reasons aggregated by months.\n",
    "\n",
    "# Choose all correct statements:\n",
    "\n",
    "# October has the lowest number of cancellations due to weather.\n",
    "# The highest number of cancellations in September is due to Security reasons.\n",
    "# April's top cancellation reason is carriers.\n",
    "# Flights cancellations due to National Air System are more frequent than those due to carriers.\n",
    "flights_df['Month'] = pd.to_datetime(flights_df['Month'], format='%m')\n",
    "\n",
    "#Grouping by month and cancellation reason and count the number of flights in each group\n",
    "cancellation_counts = flights_df.groupby(['Month', 'CancellationCode']).size().reset_index(name='CancellationReasonCount')\n",
    "\n",
    "#plotting with a stacked bar chart\n",
    "sns.set_style(\"whitegrid\")\n",
    "sns.set_palette(\"Set2\")\n",
    "sns.set(rc={'figure.figsize':(10,6)})\n",
    "sns.barplot(x='Month', y='CancellationReasonCount', hue='CancellationCode', data=cancellation_counts)\n",
    "plt.xlabel('Month')\n",
    "plt.ylabel('Number of Cancellations')\n",
    "plt.title('Cancellation Reasons with Time')\n",
    "plt.show()\n"
   ]
  },
  {
   "cell_type": "code",
   "execution_count": 112,
   "id": "40c04878",
   "metadata": {
    "scrolled": true
   },
   "outputs": [
    {
     "data": {
      "text/plain": [
       "Series([], Name: CancellationCode, dtype: int64)"
      ]
     },
     "execution_count": 112,
     "metadata": {},
     "output_type": "execute_result"
    }
   ],
   "source": [
    "flights_df['CancellationCode'].value_counts()"
   ]
  },
  {
   "cell_type": "code",
   "execution_count": 9,
   "id": "5b7a7a98",
   "metadata": {},
   "outputs": [],
   "source": [
    "# 18. Which month has the greatest number of cancellations due to Carrier?\n",
    "\n",
    "# Don't know why code didnt work\n",
    "\n",
    "# flights_df['Month'] = pd.to_datetime(flights_df['Month'], format='%m')\n",
    "# filtering data to only include cancellations due to carrier\n",
    "# carrier_cancellations= flights_df[flights_df['CancellationCode']=='UniqueCarrier']\n",
    "\n",
    "# group data by month and count max cancellations due to carrier\n",
    "# carrier_cancellation_counts = carrier_cancellations.groupby('Month').size().reset_index(name='CancellationCount')\n",
    "\n",
    "# finding the max month due to carrier\n",
    "# max_month = carrier_cancellation_counts.loc[carrier_cancellation_counts['CancellationCount'].idxmax()]['Month']\n",
    "# max_month"
   ]
  },
  {
   "cell_type": "code",
   "execution_count": 10,
   "id": "321d1e7a",
   "metadata": {},
   "outputs": [
    {
     "data": {
      "text/plain": [
       "'AA'"
      ]
     },
     "execution_count": 10,
     "metadata": {},
     "output_type": "execute_result"
    }
   ],
   "source": [
    "# 19. Identify the carrier with the greatest number of cancellations due\n",
    "# to carrier in the corresponding month from the previous question.\n",
    "\n",
    "# Filter the dataset to include only cancellations due to carrier\n",
    "cancelled_flights = flights_df[(flights_df['CancellationCode']=='A') & (flights_df['Cancelled']==1)]\n",
    "\n",
    "# Group the dataset by the carrier and count the number of cancellations\n",
    "cancellations_by_carrier = cancelled_flights.groupby(['UniqueCarrier'])['Cancelled'].count()\n",
    "\n",
    "# Find the carrier with the greatest number of cancellations\n",
    "carrier_with_most_cancellations = cancellations_by_carrier.idxmax()\n",
    "\n",
    "carrier_with_most_cancellations"
   ]
  },
  {
   "cell_type": "code",
   "execution_count": 11,
   "id": "82a6c46d",
   "metadata": {},
   "outputs": [
    {
     "data": {
      "text/plain": [
       "'AQ'"
      ]
     },
     "execution_count": 11,
     "metadata": {},
     "output_type": "execute_result"
    }
   ],
   "source": [
    "# Question 20\n",
    "\n",
    "# Filter the dataset to include only the flights with non-negative delay time.\n",
    "filtered_data=flights_df[(flights_df['ArrDelay']>=0) & (flights_df['DepDelay']>=0)] \n",
    "\n",
    "# Group the dataset by carrier and calculate the median arrival delay and median departure delay for each carrier.\n",
    "median_delays= filtered_data.groupby('UniqueCarrier')[['ArrDelay', 'DepDelay']].median()\n",
    "\n",
    "carrier_with_lowest_median_delay = median_delays.mean(axis=1).idxmin()\n",
    "carrier_with_lowest_median_delay"
   ]
  },
  {
   "cell_type": "code",
   "execution_count": 12,
   "id": "cdec9725",
   "metadata": {},
   "outputs": [
    {
     "data": {
      "text/plain": [
       "'C:\\\\Users\\\\MIC\\\\OneDrive - UGent\\\\Desktop\\\\Data Engineering\\\\Altschool\\\\Ope_classes\\\\Python Class -20230308T154637Z-001\\\\Python Class\\\\Python Capstone 1\\\\Project 2 (Assignment)'"
      ]
     },
     "execution_count": 12,
     "metadata": {},
     "output_type": "execute_result"
    }
   ],
   "source": [
    "import os\n",
    "os.getcwd()"
   ]
  }
 ],
 "metadata": {
  "kernelspec": {
   "display_name": "Python 3 (ipykernel)",
   "language": "python",
   "name": "python3"
  },
  "language_info": {
   "codemirror_mode": {
    "name": "ipython",
    "version": 3
   },
   "file_extension": ".py",
   "mimetype": "text/x-python",
   "name": "python",
   "nbconvert_exporter": "python",
   "pygments_lexer": "ipython3",
   "version": "3.9.13"
  }
 },
 "nbformat": 4,
 "nbformat_minor": 5
}
